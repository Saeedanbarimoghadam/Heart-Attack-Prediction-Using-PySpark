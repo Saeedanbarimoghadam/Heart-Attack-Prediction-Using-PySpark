{
  "nbformat": 4,
  "nbformat_minor": 0,
  "metadata": {
    "colab": {
      "provenance": []
    },
    "kernelspec": {
      "name": "python3",
      "display_name": "Python 3"
    },
    "language_info": {
      "name": "python"
    }
  },
  "cells": [
    {
      "cell_type": "code",
      "execution_count": null,
      "metadata": {
        "colab": {
          "base_uri": "https://localhost:8080/"
        },
        "id": "z-FozFgsWg1q",
        "outputId": "fb142e1d-e14f-45b7-f873-e6ecdc231203"
      },
      "outputs": [
        {
          "output_type": "stream",
          "name": "stdout",
          "text": [
            "Collecting pyspark\n",
            "  Downloading pyspark-3.5.0.tar.gz (316.9 MB)\n",
            "\u001b[2K     \u001b[90m━━━━━━━━━━━━━━━━━━━━━━━━━━━━━━━━━━━━━━━━\u001b[0m \u001b[32m316.9/316.9 MB\u001b[0m \u001b[31m4.0 MB/s\u001b[0m eta \u001b[36m0:00:00\u001b[0m\n",
            "\u001b[?25h  Preparing metadata (setup.py) ... \u001b[?25l\u001b[?25hdone\n",
            "Requirement already satisfied: py4j==0.10.9.7 in /usr/local/lib/python3.10/dist-packages (from pyspark) (0.10.9.7)\n",
            "Building wheels for collected packages: pyspark\n",
            "  Building wheel for pyspark (setup.py) ... \u001b[?25l\u001b[?25hdone\n",
            "  Created wheel for pyspark: filename=pyspark-3.5.0-py2.py3-none-any.whl size=317425345 sha256=f40b199f7ce4a3dc02edd9da1eec50a0a4a46db1d39090449cdb6227f1a2f283\n",
            "  Stored in directory: /root/.cache/pip/wheels/41/4e/10/c2cf2467f71c678cfc8a6b9ac9241e5e44a01940da8fbb17fc\n",
            "Successfully built pyspark\n",
            "Installing collected packages: pyspark\n",
            "Successfully installed pyspark-3.5.0\n"
          ]
        }
      ],
      "source": [
        "!pip install pyspark"
      ]
    },
    {
      "cell_type": "code",
      "source": [
        "from google.colab import drive\n",
        "drive.mount('/content/drive')"
      ],
      "metadata": {
        "colab": {
          "base_uri": "https://localhost:8080/"
        },
        "id": "hfUlw_alYxz4",
        "outputId": "0ee2ba48-75b2-44a4-88ba-3a8e508bdbf1"
      },
      "execution_count": null,
      "outputs": [
        {
          "output_type": "stream",
          "name": "stdout",
          "text": [
            "Mounted at /content/drive\n"
          ]
        }
      ]
    },
    {
      "cell_type": "code",
      "source": [
        "import pyspark"
      ],
      "metadata": {
        "id": "GAgQFHNHcYx3"
      },
      "execution_count": null,
      "outputs": []
    },
    {
      "cell_type": "code",
      "source": [
        "pyspark.__version__"
      ],
      "metadata": {
        "colab": {
          "base_uri": "https://localhost:8080/",
          "height": 35
        },
        "id": "Y8qroQoYcbLn",
        "outputId": "27184779-4c1e-427d-8ed7-a52ee6a04c60"
      },
      "execution_count": null,
      "outputs": [
        {
          "output_type": "execute_result",
          "data": {
            "text/plain": [
              "'3.5.0'"
            ],
            "application/vnd.google.colaboratory.intrinsic+json": {
              "type": "string"
            }
          },
          "metadata": {},
          "execution_count": 4
        }
      ]
    },
    {
      "cell_type": "code",
      "source": [
        "from pyspark.sql import SparkSession\n",
        "spark= SparkSession.builder.appName('s_test').getOrCreate()"
      ],
      "metadata": {
        "id": "oRzsrqueccNm"
      },
      "execution_count": null,
      "outputs": []
    },
    {
      "cell_type": "code",
      "source": [
        "spark\n"
      ],
      "metadata": {
        "colab": {
          "base_uri": "https://localhost:8080/",
          "height": 219
        },
        "id": "MUiCvVJFdGJP",
        "outputId": "de25f6e5-5c04-4821-9439-54fb3acec92d"
      },
      "execution_count": null,
      "outputs": [
        {
          "output_type": "execute_result",
          "data": {
            "text/plain": [
              "<pyspark.sql.session.SparkSession at 0x7e5a0ef869e0>"
            ],
            "text/html": [
              "\n",
              "            <div>\n",
              "                <p><b>SparkSession - in-memory</b></p>\n",
              "                \n",
              "        <div>\n",
              "            <p><b>SparkContext</b></p>\n",
              "\n",
              "            <p><a href=\"http://7f98f54fe63e:4040\">Spark UI</a></p>\n",
              "\n",
              "            <dl>\n",
              "              <dt>Version</dt>\n",
              "                <dd><code>v3.5.0</code></dd>\n",
              "              <dt>Master</dt>\n",
              "                <dd><code>local[*]</code></dd>\n",
              "              <dt>AppName</dt>\n",
              "                <dd><code>s_test</code></dd>\n",
              "            </dl>\n",
              "        </div>\n",
              "        \n",
              "            </div>\n",
              "        "
            ]
          },
          "metadata": {},
          "execution_count": 11
        }
      ]
    },
    {
      "cell_type": "code",
      "source": [
        "df = spark.read.csv('/content/drive/MyDrive/heart.csv',header=True,nullValue=\"Nan\", inferSchema=True)"
      ],
      "metadata": {
        "id": "Lsw0rFRCeLzr"
      },
      "execution_count": null,
      "outputs": []
    },
    {
      "cell_type": "code",
      "source": [
        "df.show()"
      ],
      "metadata": {
        "colab": {
          "base_uri": "https://localhost:8080/"
        },
        "id": "sWFGcHxxCf1f",
        "outputId": "614148ee-8b3a-4a38-b7c9-a56883631ee9"
      },
      "execution_count": null,
      "outputs": [
        {
          "output_type": "stream",
          "name": "stdout",
          "text": [
            "+---+---+---+------+----+---+-------+--------+----+-------+---+---+-----+------+\n",
            "|age|sex| cp|trtbps|chol|fbs|restecg|thalachh|exng|oldpeak|slp|caa|thall|output|\n",
            "+---+---+---+------+----+---+-------+--------+----+-------+---+---+-----+------+\n",
            "| 63|  1|  3|   145| 233|  1|      0|     150|   0|    2.3|  0|  0|    1|     1|\n",
            "| 37|  1|  2|   130| 250|  0|      1|     187|   0|    3.5|  0|  0|    2|     1|\n",
            "| 41|  0|  1|   130| 204|  0|      0|     172|   0|    1.4|  2|  0|    2|     1|\n",
            "| 56|  1|  1|   120| 236|  0|      1|     178|   0|    0.8|  2|  0|    2|     1|\n",
            "| 57|  0|  0|   120| 354|  0|      1|     163|   1|    0.6|  2|  0|    2|     1|\n",
            "| 57|  1|  0|   140| 192|  0|      1|     148|   0|    0.4|  1|  0|    1|     1|\n",
            "| 56|  0|  1|   140| 294|  0|      0|     153|   0|    1.3|  1|  0|    2|     1|\n",
            "| 44|  1|  1|   120| 263|  0|      1|     173|   0|    0.0|  2|  0|    3|     1|\n",
            "| 52|  1|  2|   172| 199|  1|      1|     162|   0|    0.5|  2|  0|    3|     1|\n",
            "| 57|  1|  2|   150| 168|  0|      1|     174|   0|    1.6|  2|  0|    2|     1|\n",
            "| 54|  1|  0|   140| 239|  0|      1|     160|   0|    1.2|  2|  0|    2|     1|\n",
            "| 48|  0|  2|   130| 275|  0|      1|     139|   0|    0.2|  2|  0|    2|     1|\n",
            "| 49|  1|  1|   130| 266|  0|      1|     171|   0|    0.6|  2|  0|    2|     1|\n",
            "| 64|  1|  3|   110| 211|  0|      0|     144|   1|    1.8|  1|  0|    2|     1|\n",
            "| 58|  0|  3|   150| 283|  1|      0|     162|   0|    1.0|  2|  0|    2|     1|\n",
            "| 50|  0|  2|   120| 219|  0|      1|     158|   0|    1.6|  1|  0|    2|     1|\n",
            "| 58|  0|  2|   120| 340|  0|      1|     172|   0|    0.0|  2|  0|    2|     1|\n",
            "| 66|  0|  3|   150| 226|  0|      1|     114|   0|    2.6|  0|  0|    2|     1|\n",
            "| 43|  1|  0|   150| 247|  0|      1|     171|   0|    1.5|  2|  0|    2|     1|\n",
            "| 69|  0|  3|   140| 239|  0|      1|     151|   0|    1.8|  2|  2|    2|     1|\n",
            "+---+---+---+------+----+---+-------+--------+----+-------+---+---+-----+------+\n",
            "only showing top 20 rows\n",
            "\n"
          ]
        }
      ]
    },
    {
      "cell_type": "code",
      "source": [
        "df.take(3)"
      ],
      "metadata": {
        "colab": {
          "base_uri": "https://localhost:8080/"
        },
        "id": "sJitiw9GDS1w",
        "outputId": "e70d9dfa-57fe-4c83-cbca-4372c010371a"
      },
      "execution_count": null,
      "outputs": [
        {
          "output_type": "execute_result",
          "data": {
            "text/plain": [
              "[Row(age=63, sex=1, cp=3, trtbps=145, chol=233, fbs=1, restecg=0, thalachh=150, exng=0, oldpeak=2.3, slp=0, caa=0, thall=1, output=1),\n",
              " Row(age=37, sex=1, cp=2, trtbps=130, chol=250, fbs=0, restecg=1, thalachh=187, exng=0, oldpeak=3.5, slp=0, caa=0, thall=2, output=1),\n",
              " Row(age=41, sex=0, cp=1, trtbps=130, chol=204, fbs=0, restecg=0, thalachh=172, exng=0, oldpeak=1.4, slp=2, caa=0, thall=2, output=1)]"
            ]
          },
          "metadata": {},
          "execution_count": 8
        }
      ]
    },
    {
      "cell_type": "code",
      "source": [
        "df.limit(3)"
      ],
      "metadata": {
        "colab": {
          "base_uri": "https://localhost:8080/"
        },
        "id": "VfX3kyHqDU86",
        "outputId": "bffd4aff-c68f-4b02-f7e6-51677a8d87f8"
      },
      "execution_count": null,
      "outputs": [
        {
          "output_type": "execute_result",
          "data": {
            "text/plain": [
              "DataFrame[age: int, sex: int, cp: int, trtbps: int, chol: int, fbs: int, restecg: int, thalachh: int, exng: int, oldpeak: double, slp: int, caa: int, thall: int, output: int]"
            ]
          },
          "metadata": {},
          "execution_count": 9
        }
      ]
    },
    {
      "cell_type": "code",
      "source": [
        "df.columns"
      ],
      "metadata": {
        "colab": {
          "base_uri": "https://localhost:8080/"
        },
        "id": "xfzXC9AODayq",
        "outputId": "2117d8b0-1d6d-4ece-f915-667236d603d8"
      },
      "execution_count": null,
      "outputs": [
        {
          "output_type": "execute_result",
          "data": {
            "text/plain": [
              "['age',\n",
              " 'sex',\n",
              " 'cp',\n",
              " 'trtbps',\n",
              " 'chol',\n",
              " 'fbs',\n",
              " 'restecg',\n",
              " 'thalachh',\n",
              " 'exng',\n",
              " 'oldpeak',\n",
              " 'slp',\n",
              " 'caa',\n",
              " 'thall',\n",
              " 'output']"
            ]
          },
          "metadata": {},
          "execution_count": 10
        }
      ]
    },
    {
      "cell_type": "code",
      "source": [
        "len(df.columns)"
      ],
      "metadata": {
        "colab": {
          "base_uri": "https://localhost:8080/"
        },
        "id": "luzN8_q-Du3V",
        "outputId": "f826e4da-04e1-49ea-848e-617bf22ba96d"
      },
      "execution_count": null,
      "outputs": [
        {
          "output_type": "execute_result",
          "data": {
            "text/plain": [
              "14"
            ]
          },
          "metadata": {},
          "execution_count": 11
        }
      ]
    },
    {
      "cell_type": "code",
      "source": [
        "df.count()"
      ],
      "metadata": {
        "colab": {
          "base_uri": "https://localhost:8080/"
        },
        "id": "JZ2qFr0ZDy9m",
        "outputId": "83ee409c-f201-4123-a7ab-0254fcd55e09"
      },
      "execution_count": null,
      "outputs": [
        {
          "output_type": "execute_result",
          "data": {
            "text/plain": [
              "303"
            ]
          },
          "metadata": {},
          "execution_count": 12
        }
      ]
    },
    {
      "cell_type": "code",
      "source": [
        "df.dtypes"
      ],
      "metadata": {
        "colab": {
          "base_uri": "https://localhost:8080/"
        },
        "id": "CGTVuX_ND096",
        "outputId": "0eb58e05-5fd8-43cf-ee67-a0f0ac5b219b"
      },
      "execution_count": null,
      "outputs": [
        {
          "output_type": "execute_result",
          "data": {
            "text/plain": [
              "[('age', 'int'),\n",
              " ('sex', 'int'),\n",
              " ('cp', 'int'),\n",
              " ('trtbps', 'int'),\n",
              " ('chol', 'int'),\n",
              " ('fbs', 'int'),\n",
              " ('restecg', 'int'),\n",
              " ('thalachh', 'int'),\n",
              " ('exng', 'int'),\n",
              " ('oldpeak', 'double'),\n",
              " ('slp', 'int'),\n",
              " ('caa', 'int'),\n",
              " ('thall', 'int'),\n",
              " ('output', 'int')]"
            ]
          },
          "metadata": {},
          "execution_count": 13
        }
      ]
    },
    {
      "cell_type": "code",
      "source": [
        "df.printSchema()"
      ],
      "metadata": {
        "colab": {
          "base_uri": "https://localhost:8080/"
        },
        "id": "FzB6Tj9gFkQU",
        "outputId": "9c33a63c-219d-4255-94c8-00fa0d46ee3b"
      },
      "execution_count": null,
      "outputs": [
        {
          "output_type": "stream",
          "name": "stdout",
          "text": [
            "root\n",
            " |-- age: integer (nullable = true)\n",
            " |-- sex: integer (nullable = true)\n",
            " |-- cp: integer (nullable = true)\n",
            " |-- trtbps: integer (nullable = true)\n",
            " |-- chol: integer (nullable = true)\n",
            " |-- fbs: integer (nullable = true)\n",
            " |-- restecg: integer (nullable = true)\n",
            " |-- thalachh: integer (nullable = true)\n",
            " |-- exng: integer (nullable = true)\n",
            " |-- oldpeak: double (nullable = true)\n",
            " |-- slp: integer (nullable = true)\n",
            " |-- caa: integer (nullable = true)\n",
            " |-- thall: integer (nullable = true)\n",
            " |-- output: integer (nullable = true)\n",
            "\n"
          ]
        }
      ]
    },
    {
      "cell_type": "code",
      "source": [
        "df.describe().show()"
      ],
      "metadata": {
        "colab": {
          "base_uri": "https://localhost:8080/"
        },
        "id": "rVyeA3NCSXgL",
        "outputId": "384a36e9-5240-478e-a70f-2b072897031b"
      },
      "execution_count": null,
      "outputs": [
        {
          "output_type": "stream",
          "name": "stdout",
          "text": [
            "+-------+------------------+-------------------+------------------+------------------+------------------+-------------------+-----------------+------------------+-------------------+------------------+------------------+------------------+------------------+------------------+\n",
            "|summary|               age|                sex|                cp|            trtbps|              chol|                fbs|          restecg|          thalachh|               exng|           oldpeak|               slp|               caa|             thall|            output|\n",
            "+-------+------------------+-------------------+------------------+------------------+------------------+-------------------+-----------------+------------------+-------------------+------------------+------------------+------------------+------------------+------------------+\n",
            "|  count|               303|                303|               303|               303|               303|                303|              303|               303|                303|               303|               303|               303|               303|               303|\n",
            "|   mean|54.366336633663366| 0.6831683168316832| 0.966996699669967|131.62376237623764|246.26402640264027| 0.1485148514851485|0.528052805280528|149.64686468646866|0.32673267326732675|1.0396039603960396|1.3993399339933994|0.7293729372937293|2.3135313531353137|0.5445544554455446|\n",
            "| stddev|  9.08210098983786|0.46601082333962385|1.0320524894832983|  17.5381428135171| 51.83075098793005|0.35619787492797644|0.525859596359298| 22.90516111491409|0.46979446452231655|1.1610750220686346|0.6162261453459622|1.0226063649693276|0.6122765072781408|0.4988347841643915|\n",
            "|    min|                29|                  0|                 0|                94|               126|                  0|                0|                71|                  0|               0.0|                 0|                 0|                 0|                 0|\n",
            "|    max|                77|                  1|                 3|               200|               564|                  1|                2|               202|                  1|               6.2|                 2|                 4|                 3|                 1|\n",
            "+-------+------------------+-------------------+------------------+------------------+------------------+-------------------+-----------------+------------------+-------------------+------------------+------------------+------------------+------------------+------------------+\n",
            "\n"
          ]
        }
      ]
    },
    {
      "cell_type": "code",
      "source": [
        "df.select(['Age', 'Sex']).show(10)"
      ],
      "metadata": {
        "colab": {
          "base_uri": "https://localhost:8080/"
        },
        "id": "-gbA26m1PbS9",
        "outputId": "0d54682b-4a99-4c8f-cac4-0683c32f1637"
      },
      "execution_count": null,
      "outputs": [
        {
          "output_type": "stream",
          "name": "stdout",
          "text": [
            "+---+---+\n",
            "|Age|Sex|\n",
            "+---+---+\n",
            "| 63|  1|\n",
            "| 37|  1|\n",
            "| 41|  0|\n",
            "| 56|  1|\n",
            "| 57|  0|\n",
            "| 57|  1|\n",
            "| 56|  0|\n",
            "| 44|  1|\n",
            "| 52|  1|\n",
            "| 57|  1|\n",
            "+---+---+\n",
            "only showing top 10 rows\n",
            "\n"
          ]
        }
      ]
    },
    {
      "cell_type": "code",
      "source": [
        "from pyspark.sql.functions import col\n",
        "null_counts = df.select([col(c).isNull().alias(c) for c in df.columns])\n",
        "null_counts.show(303)"
      ],
      "metadata": {
        "colab": {
          "base_uri": "https://localhost:8080/"
        },
        "id": "alk7FgFJQH12",
        "outputId": "bfa5cd7d-4f46-46db-c1ac-1112621b4459"
      },
      "execution_count": null,
      "outputs": [
        {
          "output_type": "stream",
          "name": "stdout",
          "text": [
            "+-----+-----+-----+------+-----+-----+-------+--------+-----+-------+-----+-----+-----+------+\n",
            "|  age|  sex|   cp|trtbps| chol|  fbs|restecg|thalachh| exng|oldpeak|  slp|  caa|thall|output|\n",
            "+-----+-----+-----+------+-----+-----+-------+--------+-----+-------+-----+-----+-----+------+\n",
            "|false|false|false| false|false|false|  false|   false|false|  false|false|false|false| false|\n",
            "|false|false|false| false|false|false|  false|   false|false|  false|false|false|false| false|\n",
            "|false|false|false| false|false|false|  false|   false|false|  false|false|false|false| false|\n",
            "|false|false|false| false|false|false|  false|   false|false|  false|false|false|false| false|\n",
            "|false|false|false| false|false|false|  false|   false|false|  false|false|false|false| false|\n",
            "|false|false|false| false|false|false|  false|   false|false|  false|false|false|false| false|\n",
            "|false|false|false| false|false|false|  false|   false|false|  false|false|false|false| false|\n",
            "|false|false|false| false|false|false|  false|   false|false|  false|false|false|false| false|\n",
            "|false|false|false| false|false|false|  false|   false|false|  false|false|false|false| false|\n",
            "|false|false|false| false|false|false|  false|   false|false|  false|false|false|false| false|\n",
            "|false|false|false| false|false|false|  false|   false|false|  false|false|false|false| false|\n",
            "|false|false|false| false|false|false|  false|   false|false|  false|false|false|false| false|\n",
            "|false|false|false| false|false|false|  false|   false|false|  false|false|false|false| false|\n",
            "|false|false|false| false|false|false|  false|   false|false|  false|false|false|false| false|\n",
            "|false|false|false| false|false|false|  false|   false|false|  false|false|false|false| false|\n",
            "|false|false|false| false|false|false|  false|   false|false|  false|false|false|false| false|\n",
            "|false|false|false| false|false|false|  false|   false|false|  false|false|false|false| false|\n",
            "|false|false|false| false|false|false|  false|   false|false|  false|false|false|false| false|\n",
            "|false|false|false| false|false|false|  false|   false|false|  false|false|false|false| false|\n",
            "|false|false|false| false|false|false|  false|   false|false|  false|false|false|false| false|\n",
            "|false|false|false| false|false|false|  false|   false|false|  false|false|false|false| false|\n",
            "|false|false|false| false|false|false|  false|   false|false|  false|false|false|false| false|\n",
            "|false|false|false| false|false|false|  false|   false|false|  false|false|false|false| false|\n",
            "|false|false|false| false|false|false|  false|   false|false|  false|false|false|false| false|\n",
            "|false|false|false| false|false|false|  false|   false|false|  false|false|false|false| false|\n",
            "|false|false|false| false|false|false|  false|   false|false|  false|false|false|false| false|\n",
            "|false|false|false| false|false|false|  false|   false|false|  false|false|false|false| false|\n",
            "|false|false|false| false|false|false|  false|   false|false|  false|false|false|false| false|\n",
            "|false|false|false| false|false|false|  false|   false|false|  false|false|false|false| false|\n",
            "|false|false|false| false|false|false|  false|   false|false|  false|false|false|false| false|\n",
            "|false|false|false| false|false|false|  false|   false|false|  false|false|false|false| false|\n",
            "|false|false|false| false|false|false|  false|   false|false|  false|false|false|false| false|\n",
            "|false|false|false| false|false|false|  false|   false|false|  false|false|false|false| false|\n",
            "|false|false|false| false|false|false|  false|   false|false|  false|false|false|false| false|\n",
            "|false|false|false| false|false|false|  false|   false|false|  false|false|false|false| false|\n",
            "|false|false|false| false|false|false|  false|   false|false|  false|false|false|false| false|\n",
            "|false|false|false| false|false|false|  false|   false|false|  false|false|false|false| false|\n",
            "|false|false|false| false|false|false|  false|   false|false|  false|false|false|false| false|\n",
            "|false|false|false| false|false|false|  false|   false|false|  false|false|false|false| false|\n",
            "|false|false|false| false|false|false|  false|   false|false|  false|false|false|false| false|\n",
            "|false|false|false| false|false|false|  false|   false|false|  false|false|false|false| false|\n",
            "|false|false|false| false|false|false|  false|   false|false|  false|false|false|false| false|\n",
            "|false|false|false| false|false|false|  false|   false|false|  false|false|false|false| false|\n",
            "|false|false|false| false|false|false|  false|   false|false|  false|false|false|false| false|\n",
            "|false|false|false| false|false|false|  false|   false|false|  false|false|false|false| false|\n",
            "|false|false|false| false|false|false|  false|   false|false|  false|false|false|false| false|\n",
            "|false|false|false| false|false|false|  false|   false|false|  false|false|false|false| false|\n",
            "|false|false|false| false|false|false|  false|   false|false|  false|false|false|false| false|\n",
            "|false|false|false| false|false|false|  false|   false|false|  false|false|false|false| false|\n",
            "|false|false|false| false|false|false|  false|   false|false|  false|false|false|false| false|\n",
            "|false|false|false| false|false|false|  false|   false|false|  false|false|false|false| false|\n",
            "|false|false|false| false|false|false|  false|   false|false|  false|false|false|false| false|\n",
            "|false|false|false| false|false|false|  false|   false|false|  false|false|false|false| false|\n",
            "|false|false|false| false|false|false|  false|   false|false|  false|false|false|false| false|\n",
            "|false|false|false| false|false|false|  false|   false|false|  false|false|false|false| false|\n",
            "|false|false|false| false|false|false|  false|   false|false|  false|false|false|false| false|\n",
            "|false|false|false| false|false|false|  false|   false|false|  false|false|false|false| false|\n",
            "|false|false|false| false|false|false|  false|   false|false|  false|false|false|false| false|\n",
            "|false|false|false| false|false|false|  false|   false|false|  false|false|false|false| false|\n",
            "|false|false|false| false|false|false|  false|   false|false|  false|false|false|false| false|\n",
            "|false|false|false| false|false|false|  false|   false|false|  false|false|false|false| false|\n",
            "|false|false|false| false|false|false|  false|   false|false|  false|false|false|false| false|\n",
            "|false|false|false| false|false|false|  false|   false|false|  false|false|false|false| false|\n",
            "|false|false|false| false|false|false|  false|   false|false|  false|false|false|false| false|\n",
            "|false|false|false| false|false|false|  false|   false|false|  false|false|false|false| false|\n",
            "|false|false|false| false|false|false|  false|   false|false|  false|false|false|false| false|\n",
            "|false|false|false| false|false|false|  false|   false|false|  false|false|false|false| false|\n",
            "|false|false|false| false|false|false|  false|   false|false|  false|false|false|false| false|\n",
            "|false|false|false| false|false|false|  false|   false|false|  false|false|false|false| false|\n",
            "|false|false|false| false|false|false|  false|   false|false|  false|false|false|false| false|\n",
            "|false|false|false| false|false|false|  false|   false|false|  false|false|false|false| false|\n",
            "|false|false|false| false|false|false|  false|   false|false|  false|false|false|false| false|\n",
            "|false|false|false| false|false|false|  false|   false|false|  false|false|false|false| false|\n",
            "|false|false|false| false|false|false|  false|   false|false|  false|false|false|false| false|\n",
            "|false|false|false| false|false|false|  false|   false|false|  false|false|false|false| false|\n",
            "|false|false|false| false|false|false|  false|   false|false|  false|false|false|false| false|\n",
            "|false|false|false| false|false|false|  false|   false|false|  false|false|false|false| false|\n",
            "|false|false|false| false|false|false|  false|   false|false|  false|false|false|false| false|\n",
            "|false|false|false| false|false|false|  false|   false|false|  false|false|false|false| false|\n",
            "|false|false|false| false|false|false|  false|   false|false|  false|false|false|false| false|\n",
            "|false|false|false| false|false|false|  false|   false|false|  false|false|false|false| false|\n",
            "|false|false|false| false|false|false|  false|   false|false|  false|false|false|false| false|\n",
            "|false|false|false| false|false|false|  false|   false|false|  false|false|false|false| false|\n",
            "|false|false|false| false|false|false|  false|   false|false|  false|false|false|false| false|\n",
            "|false|false|false| false|false|false|  false|   false|false|  false|false|false|false| false|\n",
            "|false|false|false| false|false|false|  false|   false|false|  false|false|false|false| false|\n",
            "|false|false|false| false|false|false|  false|   false|false|  false|false|false|false| false|\n",
            "|false|false|false| false|false|false|  false|   false|false|  false|false|false|false| false|\n",
            "|false|false|false| false|false|false|  false|   false|false|  false|false|false|false| false|\n",
            "|false|false|false| false|false|false|  false|   false|false|  false|false|false|false| false|\n",
            "|false|false|false| false|false|false|  false|   false|false|  false|false|false|false| false|\n",
            "|false|false|false| false|false|false|  false|   false|false|  false|false|false|false| false|\n",
            "|false|false|false| false|false|false|  false|   false|false|  false|false|false|false| false|\n",
            "|false|false|false| false|false|false|  false|   false|false|  false|false|false|false| false|\n",
            "|false|false|false| false|false|false|  false|   false|false|  false|false|false|false| false|\n",
            "|false|false|false| false|false|false|  false|   false|false|  false|false|false|false| false|\n",
            "|false|false|false| false|false|false|  false|   false|false|  false|false|false|false| false|\n",
            "|false|false|false| false|false|false|  false|   false|false|  false|false|false|false| false|\n",
            "|false|false|false| false|false|false|  false|   false|false|  false|false|false|false| false|\n",
            "|false|false|false| false|false|false|  false|   false|false|  false|false|false|false| false|\n",
            "|false|false|false| false|false|false|  false|   false|false|  false|false|false|false| false|\n",
            "|false|false|false| false|false|false|  false|   false|false|  false|false|false|false| false|\n",
            "|false|false|false| false|false|false|  false|   false|false|  false|false|false|false| false|\n",
            "|false|false|false| false|false|false|  false|   false|false|  false|false|false|false| false|\n",
            "|false|false|false| false|false|false|  false|   false|false|  false|false|false|false| false|\n",
            "|false|false|false| false|false|false|  false|   false|false|  false|false|false|false| false|\n",
            "|false|false|false| false|false|false|  false|   false|false|  false|false|false|false| false|\n",
            "|false|false|false| false|false|false|  false|   false|false|  false|false|false|false| false|\n",
            "|false|false|false| false|false|false|  false|   false|false|  false|false|false|false| false|\n",
            "|false|false|false| false|false|false|  false|   false|false|  false|false|false|false| false|\n",
            "|false|false|false| false|false|false|  false|   false|false|  false|false|false|false| false|\n",
            "|false|false|false| false|false|false|  false|   false|false|  false|false|false|false| false|\n",
            "|false|false|false| false|false|false|  false|   false|false|  false|false|false|false| false|\n",
            "|false|false|false| false|false|false|  false|   false|false|  false|false|false|false| false|\n",
            "|false|false|false| false|false|false|  false|   false|false|  false|false|false|false| false|\n",
            "|false|false|false| false|false|false|  false|   false|false|  false|false|false|false| false|\n",
            "|false|false|false| false|false|false|  false|   false|false|  false|false|false|false| false|\n",
            "|false|false|false| false|false|false|  false|   false|false|  false|false|false|false| false|\n",
            "|false|false|false| false|false|false|  false|   false|false|  false|false|false|false| false|\n",
            "|false|false|false| false|false|false|  false|   false|false|  false|false|false|false| false|\n",
            "|false|false|false| false|false|false|  false|   false|false|  false|false|false|false| false|\n",
            "|false|false|false| false|false|false|  false|   false|false|  false|false|false|false| false|\n",
            "|false|false|false| false|false|false|  false|   false|false|  false|false|false|false| false|\n",
            "|false|false|false| false|false|false|  false|   false|false|  false|false|false|false| false|\n",
            "|false|false|false| false|false|false|  false|   false|false|  false|false|false|false| false|\n",
            "|false|false|false| false|false|false|  false|   false|false|  false|false|false|false| false|\n",
            "|false|false|false| false|false|false|  false|   false|false|  false|false|false|false| false|\n",
            "|false|false|false| false|false|false|  false|   false|false|  false|false|false|false| false|\n",
            "|false|false|false| false|false|false|  false|   false|false|  false|false|false|false| false|\n",
            "|false|false|false| false|false|false|  false|   false|false|  false|false|false|false| false|\n",
            "|false|false|false| false|false|false|  false|   false|false|  false|false|false|false| false|\n",
            "|false|false|false| false|false|false|  false|   false|false|  false|false|false|false| false|\n",
            "|false|false|false| false|false|false|  false|   false|false|  false|false|false|false| false|\n",
            "|false|false|false| false|false|false|  false|   false|false|  false|false|false|false| false|\n",
            "|false|false|false| false|false|false|  false|   false|false|  false|false|false|false| false|\n",
            "|false|false|false| false|false|false|  false|   false|false|  false|false|false|false| false|\n",
            "|false|false|false| false|false|false|  false|   false|false|  false|false|false|false| false|\n",
            "|false|false|false| false|false|false|  false|   false|false|  false|false|false|false| false|\n",
            "|false|false|false| false|false|false|  false|   false|false|  false|false|false|false| false|\n",
            "|false|false|false| false|false|false|  false|   false|false|  false|false|false|false| false|\n",
            "|false|false|false| false|false|false|  false|   false|false|  false|false|false|false| false|\n",
            "|false|false|false| false|false|false|  false|   false|false|  false|false|false|false| false|\n",
            "|false|false|false| false|false|false|  false|   false|false|  false|false|false|false| false|\n",
            "|false|false|false| false|false|false|  false|   false|false|  false|false|false|false| false|\n",
            "|false|false|false| false|false|false|  false|   false|false|  false|false|false|false| false|\n",
            "|false|false|false| false|false|false|  false|   false|false|  false|false|false|false| false|\n",
            "|false|false|false| false|false|false|  false|   false|false|  false|false|false|false| false|\n",
            "|false|false|false| false|false|false|  false|   false|false|  false|false|false|false| false|\n",
            "|false|false|false| false|false|false|  false|   false|false|  false|false|false|false| false|\n",
            "|false|false|false| false|false|false|  false|   false|false|  false|false|false|false| false|\n",
            "|false|false|false| false|false|false|  false|   false|false|  false|false|false|false| false|\n",
            "|false|false|false| false|false|false|  false|   false|false|  false|false|false|false| false|\n",
            "|false|false|false| false|false|false|  false|   false|false|  false|false|false|false| false|\n",
            "|false|false|false| false|false|false|  false|   false|false|  false|false|false|false| false|\n",
            "|false|false|false| false|false|false|  false|   false|false|  false|false|false|false| false|\n",
            "|false|false|false| false|false|false|  false|   false|false|  false|false|false|false| false|\n",
            "|false|false|false| false|false|false|  false|   false|false|  false|false|false|false| false|\n",
            "|false|false|false| false|false|false|  false|   false|false|  false|false|false|false| false|\n",
            "|false|false|false| false|false|false|  false|   false|false|  false|false|false|false| false|\n",
            "|false|false|false| false|false|false|  false|   false|false|  false|false|false|false| false|\n",
            "|false|false|false| false|false|false|  false|   false|false|  false|false|false|false| false|\n",
            "|false|false|false| false|false|false|  false|   false|false|  false|false|false|false| false|\n",
            "|false|false|false| false|false|false|  false|   false|false|  false|false|false|false| false|\n",
            "|false|false|false| false|false|false|  false|   false|false|  false|false|false|false| false|\n",
            "|false|false|false| false|false|false|  false|   false|false|  false|false|false|false| false|\n",
            "|false|false|false| false|false|false|  false|   false|false|  false|false|false|false| false|\n",
            "|false|false|false| false|false|false|  false|   false|false|  false|false|false|false| false|\n",
            "|false|false|false| false|false|false|  false|   false|false|  false|false|false|false| false|\n",
            "|false|false|false| false|false|false|  false|   false|false|  false|false|false|false| false|\n",
            "|false|false|false| false|false|false|  false|   false|false|  false|false|false|false| false|\n",
            "|false|false|false| false|false|false|  false|   false|false|  false|false|false|false| false|\n",
            "|false|false|false| false|false|false|  false|   false|false|  false|false|false|false| false|\n",
            "|false|false|false| false|false|false|  false|   false|false|  false|false|false|false| false|\n",
            "|false|false|false| false|false|false|  false|   false|false|  false|false|false|false| false|\n",
            "|false|false|false| false|false|false|  false|   false|false|  false|false|false|false| false|\n",
            "|false|false|false| false|false|false|  false|   false|false|  false|false|false|false| false|\n",
            "|false|false|false| false|false|false|  false|   false|false|  false|false|false|false| false|\n",
            "|false|false|false| false|false|false|  false|   false|false|  false|false|false|false| false|\n",
            "|false|false|false| false|false|false|  false|   false|false|  false|false|false|false| false|\n",
            "|false|false|false| false|false|false|  false|   false|false|  false|false|false|false| false|\n",
            "|false|false|false| false|false|false|  false|   false|false|  false|false|false|false| false|\n",
            "|false|false|false| false|false|false|  false|   false|false|  false|false|false|false| false|\n",
            "|false|false|false| false|false|false|  false|   false|false|  false|false|false|false| false|\n",
            "|false|false|false| false|false|false|  false|   false|false|  false|false|false|false| false|\n",
            "|false|false|false| false|false|false|  false|   false|false|  false|false|false|false| false|\n",
            "|false|false|false| false|false|false|  false|   false|false|  false|false|false|false| false|\n",
            "|false|false|false| false|false|false|  false|   false|false|  false|false|false|false| false|\n",
            "|false|false|false| false|false|false|  false|   false|false|  false|false|false|false| false|\n",
            "|false|false|false| false|false|false|  false|   false|false|  false|false|false|false| false|\n",
            "|false|false|false| false|false|false|  false|   false|false|  false|false|false|false| false|\n",
            "|false|false|false| false|false|false|  false|   false|false|  false|false|false|false| false|\n",
            "|false|false|false| false|false|false|  false|   false|false|  false|false|false|false| false|\n",
            "|false|false|false| false|false|false|  false|   false|false|  false|false|false|false| false|\n",
            "|false|false|false| false|false|false|  false|   false|false|  false|false|false|false| false|\n",
            "|false|false|false| false|false|false|  false|   false|false|  false|false|false|false| false|\n",
            "|false|false|false| false|false|false|  false|   false|false|  false|false|false|false| false|\n",
            "|false|false|false| false|false|false|  false|   false|false|  false|false|false|false| false|\n",
            "|false|false|false| false|false|false|  false|   false|false|  false|false|false|false| false|\n",
            "|false|false|false| false|false|false|  false|   false|false|  false|false|false|false| false|\n",
            "|false|false|false| false|false|false|  false|   false|false|  false|false|false|false| false|\n",
            "|false|false|false| false|false|false|  false|   false|false|  false|false|false|false| false|\n",
            "|false|false|false| false|false|false|  false|   false|false|  false|false|false|false| false|\n",
            "|false|false|false| false|false|false|  false|   false|false|  false|false|false|false| false|\n",
            "|false|false|false| false|false|false|  false|   false|false|  false|false|false|false| false|\n",
            "|false|false|false| false|false|false|  false|   false|false|  false|false|false|false| false|\n",
            "|false|false|false| false|false|false|  false|   false|false|  false|false|false|false| false|\n",
            "|false|false|false| false|false|false|  false|   false|false|  false|false|false|false| false|\n",
            "|false|false|false| false|false|false|  false|   false|false|  false|false|false|false| false|\n",
            "|false|false|false| false|false|false|  false|   false|false|  false|false|false|false| false|\n",
            "|false|false|false| false|false|false|  false|   false|false|  false|false|false|false| false|\n",
            "|false|false|false| false|false|false|  false|   false|false|  false|false|false|false| false|\n",
            "|false|false|false| false|false|false|  false|   false|false|  false|false|false|false| false|\n",
            "|false|false|false| false|false|false|  false|   false|false|  false|false|false|false| false|\n",
            "|false|false|false| false|false|false|  false|   false|false|  false|false|false|false| false|\n",
            "|false|false|false| false|false|false|  false|   false|false|  false|false|false|false| false|\n",
            "|false|false|false| false|false|false|  false|   false|false|  false|false|false|false| false|\n",
            "|false|false|false| false|false|false|  false|   false|false|  false|false|false|false| false|\n",
            "|false|false|false| false|false|false|  false|   false|false|  false|false|false|false| false|\n",
            "|false|false|false| false|false|false|  false|   false|false|  false|false|false|false| false|\n",
            "|false|false|false| false|false|false|  false|   false|false|  false|false|false|false| false|\n",
            "|false|false|false| false|false|false|  false|   false|false|  false|false|false|false| false|\n",
            "|false|false|false| false|false|false|  false|   false|false|  false|false|false|false| false|\n",
            "|false|false|false| false|false|false|  false|   false|false|  false|false|false|false| false|\n",
            "|false|false|false| false|false|false|  false|   false|false|  false|false|false|false| false|\n",
            "|false|false|false| false|false|false|  false|   false|false|  false|false|false|false| false|\n",
            "|false|false|false| false|false|false|  false|   false|false|  false|false|false|false| false|\n",
            "|false|false|false| false|false|false|  false|   false|false|  false|false|false|false| false|\n",
            "|false|false|false| false|false|false|  false|   false|false|  false|false|false|false| false|\n",
            "|false|false|false| false|false|false|  false|   false|false|  false|false|false|false| false|\n",
            "|false|false|false| false|false|false|  false|   false|false|  false|false|false|false| false|\n",
            "|false|false|false| false|false|false|  false|   false|false|  false|false|false|false| false|\n",
            "|false|false|false| false|false|false|  false|   false|false|  false|false|false|false| false|\n",
            "|false|false|false| false|false|false|  false|   false|false|  false|false|false|false| false|\n",
            "|false|false|false| false|false|false|  false|   false|false|  false|false|false|false| false|\n",
            "|false|false|false| false|false|false|  false|   false|false|  false|false|false|false| false|\n",
            "|false|false|false| false|false|false|  false|   false|false|  false|false|false|false| false|\n",
            "|false|false|false| false|false|false|  false|   false|false|  false|false|false|false| false|\n",
            "|false|false|false| false|false|false|  false|   false|false|  false|false|false|false| false|\n",
            "|false|false|false| false|false|false|  false|   false|false|  false|false|false|false| false|\n",
            "|false|false|false| false|false|false|  false|   false|false|  false|false|false|false| false|\n",
            "|false|false|false| false|false|false|  false|   false|false|  false|false|false|false| false|\n",
            "|false|false|false| false|false|false|  false|   false|false|  false|false|false|false| false|\n",
            "|false|false|false| false|false|false|  false|   false|false|  false|false|false|false| false|\n",
            "|false|false|false| false|false|false|  false|   false|false|  false|false|false|false| false|\n",
            "|false|false|false| false|false|false|  false|   false|false|  false|false|false|false| false|\n",
            "|false|false|false| false|false|false|  false|   false|false|  false|false|false|false| false|\n",
            "|false|false|false| false|false|false|  false|   false|false|  false|false|false|false| false|\n",
            "|false|false|false| false|false|false|  false|   false|false|  false|false|false|false| false|\n",
            "|false|false|false| false|false|false|  false|   false|false|  false|false|false|false| false|\n",
            "|false|false|false| false|false|false|  false|   false|false|  false|false|false|false| false|\n",
            "|false|false|false| false|false|false|  false|   false|false|  false|false|false|false| false|\n",
            "|false|false|false| false|false|false|  false|   false|false|  false|false|false|false| false|\n",
            "|false|false|false| false|false|false|  false|   false|false|  false|false|false|false| false|\n",
            "|false|false|false| false|false|false|  false|   false|false|  false|false|false|false| false|\n",
            "|false|false|false| false|false|false|  false|   false|false|  false|false|false|false| false|\n",
            "|false|false|false| false|false|false|  false|   false|false|  false|false|false|false| false|\n",
            "|false|false|false| false|false|false|  false|   false|false|  false|false|false|false| false|\n",
            "|false|false|false| false|false|false|  false|   false|false|  false|false|false|false| false|\n",
            "|false|false|false| false|false|false|  false|   false|false|  false|false|false|false| false|\n",
            "|false|false|false| false|false|false|  false|   false|false|  false|false|false|false| false|\n",
            "|false|false|false| false|false|false|  false|   false|false|  false|false|false|false| false|\n",
            "|false|false|false| false|false|false|  false|   false|false|  false|false|false|false| false|\n",
            "|false|false|false| false|false|false|  false|   false|false|  false|false|false|false| false|\n",
            "|false|false|false| false|false|false|  false|   false|false|  false|false|false|false| false|\n",
            "|false|false|false| false|false|false|  false|   false|false|  false|false|false|false| false|\n",
            "|false|false|false| false|false|false|  false|   false|false|  false|false|false|false| false|\n",
            "|false|false|false| false|false|false|  false|   false|false|  false|false|false|false| false|\n",
            "|false|false|false| false|false|false|  false|   false|false|  false|false|false|false| false|\n",
            "|false|false|false| false|false|false|  false|   false|false|  false|false|false|false| false|\n",
            "|false|false|false| false|false|false|  false|   false|false|  false|false|false|false| false|\n",
            "|false|false|false| false|false|false|  false|   false|false|  false|false|false|false| false|\n",
            "|false|false|false| false|false|false|  false|   false|false|  false|false|false|false| false|\n",
            "|false|false|false| false|false|false|  false|   false|false|  false|false|false|false| false|\n",
            "|false|false|false| false|false|false|  false|   false|false|  false|false|false|false| false|\n",
            "|false|false|false| false|false|false|  false|   false|false|  false|false|false|false| false|\n",
            "|false|false|false| false|false|false|  false|   false|false|  false|false|false|false| false|\n",
            "|false|false|false| false|false|false|  false|   false|false|  false|false|false|false| false|\n",
            "|false|false|false| false|false|false|  false|   false|false|  false|false|false|false| false|\n",
            "|false|false|false| false|false|false|  false|   false|false|  false|false|false|false| false|\n",
            "|false|false|false| false|false|false|  false|   false|false|  false|false|false|false| false|\n",
            "|false|false|false| false|false|false|  false|   false|false|  false|false|false|false| false|\n",
            "|false|false|false| false|false|false|  false|   false|false|  false|false|false|false| false|\n",
            "|false|false|false| false|false|false|  false|   false|false|  false|false|false|false| false|\n",
            "|false|false|false| false|false|false|  false|   false|false|  false|false|false|false| false|\n",
            "|false|false|false| false|false|false|  false|   false|false|  false|false|false|false| false|\n",
            "|false|false|false| false|false|false|  false|   false|false|  false|false|false|false| false|\n",
            "|false|false|false| false|false|false|  false|   false|false|  false|false|false|false| false|\n",
            "|false|false|false| false|false|false|  false|   false|false|  false|false|false|false| false|\n",
            "|false|false|false| false|false|false|  false|   false|false|  false|false|false|false| false|\n",
            "|false|false|false| false|false|false|  false|   false|false|  false|false|false|false| false|\n",
            "|false|false|false| false|false|false|  false|   false|false|  false|false|false|false| false|\n",
            "|false|false|false| false|false|false|  false|   false|false|  false|false|false|false| false|\n",
            "|false|false|false| false|false|false|  false|   false|false|  false|false|false|false| false|\n",
            "|false|false|false| false|false|false|  false|   false|false|  false|false|false|false| false|\n",
            "|false|false|false| false|false|false|  false|   false|false|  false|false|false|false| false|\n",
            "|false|false|false| false|false|false|  false|   false|false|  false|false|false|false| false|\n",
            "|false|false|false| false|false|false|  false|   false|false|  false|false|false|false| false|\n",
            "|false|false|false| false|false|false|  false|   false|false|  false|false|false|false| false|\n",
            "|false|false|false| false|false|false|  false|   false|false|  false|false|false|false| false|\n",
            "|false|false|false| false|false|false|  false|   false|false|  false|false|false|false| false|\n",
            "|false|false|false| false|false|false|  false|   false|false|  false|false|false|false| false|\n",
            "|false|false|false| false|false|false|  false|   false|false|  false|false|false|false| false|\n",
            "|false|false|false| false|false|false|  false|   false|false|  false|false|false|false| false|\n",
            "+-----+-----+-----+------+-----+-----+-------+--------+-----+-------+-----+-----+-----+------+\n",
            "\n"
          ]
        }
      ]
    },
    {
      "cell_type": "code",
      "source": [
        "df.groupby('sex').count().show(2)"
      ],
      "metadata": {
        "id": "vt4X-aHCZEuE",
        "colab": {
          "base_uri": "https://localhost:8080/"
        },
        "outputId": "3ae6373c-b32f-42dc-aaa5-3ac166f7b226"
      },
      "execution_count": null,
      "outputs": [
        {
          "output_type": "stream",
          "name": "stdout",
          "text": [
            "+---+-----+\n",
            "|sex|count|\n",
            "+---+-----+\n",
            "|  1|  207|\n",
            "|  0|   96|\n",
            "+---+-----+\n",
            "\n"
          ]
        }
      ]
    },
    {
      "cell_type": "code",
      "source": [
        "df.groupby('age').count().show(10)"
      ],
      "metadata": {
        "colab": {
          "base_uri": "https://localhost:8080/"
        },
        "id": "z3omBurMk9Hg",
        "outputId": "b0bedc03-d9c5-4185-c840-3e18cf9af705"
      },
      "execution_count": null,
      "outputs": [
        {
          "output_type": "stream",
          "name": "stdout",
          "text": [
            "+---+-----+\n",
            "|age|count|\n",
            "+---+-----+\n",
            "| 65|    8|\n",
            "| 53|    8|\n",
            "| 34|    2|\n",
            "| 76|    1|\n",
            "| 44|   11|\n",
            "| 47|    5|\n",
            "| 52|   13|\n",
            "| 40|    3|\n",
            "| 57|   17|\n",
            "| 54|   16|\n",
            "+---+-----+\n",
            "only showing top 10 rows\n",
            "\n"
          ]
        }
      ]
    },
    {
      "cell_type": "code",
      "source": [
        "from pyspark.sql.functions import desc,asc\n",
        "df.groupBy('age').count().orderBy(asc('count')).show(80)"
      ],
      "metadata": {
        "colab": {
          "base_uri": "https://localhost:8080/"
        },
        "id": "mG49nyCyl33n",
        "outputId": "18ee20c5-7281-4a7d-eb65-bb803842d461"
      },
      "execution_count": null,
      "outputs": [
        {
          "output_type": "stream",
          "name": "stdout",
          "text": [
            "+---+-----+\n",
            "|age|count|\n",
            "+---+-----+\n",
            "| 76|    1|\n",
            "| 77|    1|\n",
            "| 29|    1|\n",
            "| 74|    1|\n",
            "| 34|    2|\n",
            "| 37|    2|\n",
            "| 40|    3|\n",
            "| 69|    3|\n",
            "| 38|    3|\n",
            "| 71|    3|\n",
            "| 35|    4|\n",
            "| 39|    4|\n",
            "| 70|    4|\n",
            "| 68|    4|\n",
            "| 47|    5|\n",
            "| 49|    5|\n",
            "| 48|    7|\n",
            "| 50|    7|\n",
            "| 66|    7|\n",
            "| 46|    7|\n",
            "| 65|    8|\n",
            "| 53|    8|\n",
            "| 43|    8|\n",
            "| 61|    8|\n",
            "| 55|    8|\n",
            "| 45|    8|\n",
            "| 42|    8|\n",
            "| 63|    9|\n",
            "| 67|    9|\n",
            "| 64|   10|\n",
            "| 41|   10|\n",
            "| 44|   11|\n",
            "| 62|   11|\n",
            "| 60|   11|\n",
            "| 56|   11|\n",
            "| 51|   12|\n",
            "| 52|   13|\n",
            "| 59|   14|\n",
            "| 54|   16|\n",
            "| 57|   17|\n",
            "| 58|   19|\n",
            "+---+-----+\n",
            "\n"
          ]
        }
      ]
    },
    {
      "cell_type": "code",
      "source": [
        "df.groupby('output').count().show(2)  # 1: Heartattack"
      ],
      "metadata": {
        "colab": {
          "base_uri": "https://localhost:8080/"
        },
        "id": "nu12fHqTmccO",
        "outputId": "0f158e6e-1c1d-4d34-9262-ef3d3fd174e2"
      },
      "execution_count": null,
      "outputs": [
        {
          "output_type": "stream",
          "name": "stdout",
          "text": [
            "+------+-----+\n",
            "|output|count|\n",
            "+------+-----+\n",
            "|     1|  165|\n",
            "|     0|  138|\n",
            "+------+-----+\n",
            "\n"
          ]
        }
      ]
    },
    {
      "cell_type": "code",
      "source": [
        "from pyspark.sql.functions import min, max, avg\n",
        "df.groupBy('output').agg(max('chol')).show(2)"
      ],
      "metadata": {
        "colab": {
          "base_uri": "https://localhost:8080/"
        },
        "id": "Bj_GOmiHm2sf",
        "outputId": "a54dd6db-6f39-4fd8-b448-aa7467b12351"
      },
      "execution_count": null,
      "outputs": [
        {
          "output_type": "stream",
          "name": "stdout",
          "text": [
            "+------+---------+\n",
            "|output|max(chol)|\n",
            "+------+---------+\n",
            "|     1|      564|\n",
            "|     0|      409|\n",
            "+------+---------+\n",
            "\n"
          ]
        }
      ]
    },
    {
      "cell_type": "code",
      "source": [
        "df.groupBy('output').agg(avg('chol')).show(2)"
      ],
      "metadata": {
        "colab": {
          "base_uri": "https://localhost:8080/"
        },
        "id": "F8EWMoqJm9qV",
        "outputId": "a18523b9-fa81-4c20-efed-6ec92ad4400a"
      },
      "execution_count": null,
      "outputs": [
        {
          "output_type": "stream",
          "name": "stdout",
          "text": [
            "+------+------------------+\n",
            "|output|         avg(chol)|\n",
            "+------+------------------+\n",
            "|     1|242.23030303030302|\n",
            "|     0|251.08695652173913|\n",
            "+------+------------------+\n",
            "\n"
          ]
        }
      ]
    },
    {
      "cell_type": "code",
      "source": [
        "df.show(5)"
      ],
      "metadata": {
        "colab": {
          "base_uri": "https://localhost:8080/"
        },
        "id": "XpU4PeSLzBRI",
        "outputId": "26d7b880-49b5-4470-abcf-87781c43af4b"
      },
      "execution_count": null,
      "outputs": [
        {
          "output_type": "stream",
          "name": "stdout",
          "text": [
            "+---+---+---+------+----+---+-------+--------+----+-------+---+---+-----+------+\n",
            "|age|sex| cp|trtbps|chol|fbs|restecg|thalachh|exng|oldpeak|slp|caa|thall|output|\n",
            "+---+---+---+------+----+---+-------+--------+----+-------+---+---+-----+------+\n",
            "| 63|  1|  3|   145| 233|  1|      0|     150|   0|    2.3|  0|  0|    1|     1|\n",
            "| 37|  1|  2|   130| 250|  0|      1|     187|   0|    3.5|  0|  0|    2|     1|\n",
            "| 41|  0|  1|   130| 204|  0|      0|     172|   0|    1.4|  2|  0|    2|     1|\n",
            "| 56|  1|  1|   120| 236|  0|      1|     178|   0|    0.8|  2|  0|    2|     1|\n",
            "| 57|  0|  0|   120| 354|  0|      1|     163|   1|    0.6|  2|  0|    2|     1|\n",
            "+---+---+---+------+----+---+-------+--------+----+-------+---+---+-----+------+\n",
            "only showing top 5 rows\n",
            "\n"
          ]
        }
      ]
    },
    {
      "cell_type": "code",
      "source": [
        "#Regression\n",
        "\n",
        "X_cols = ['age', 'oldpeak', 'chol','trtbps']\n",
        "target_col = ['thalachh'] #thalachh:maximum heartrate\n",
        "my_cols = df['age', 'oldpeak', 'chol','trtbps', 'thalachh']"
      ],
      "metadata": {
        "id": "ewFEcb-CzDiu"
      },
      "execution_count": null,
      "outputs": []
    },
    {
      "cell_type": "code",
      "source": [
        "from pyspark.ml.feature import VectorAssembler\n",
        "VA = VectorAssembler(inputCols=X_cols, outputCol='feat_vec')\n",
        "df = VA.transform(df)\n",
        "data = df.select(['age', 'oldpeak', 'chol', 'feat_vec', 'thalachh'])"
      ],
      "metadata": {
        "id": "FVgtaAdhz94e"
      },
      "execution_count": null,
      "outputs": []
    },
    {
      "cell_type": "code",
      "source": [
        "trainset, testset = data.randomSplit([0.75, 0.25])"
      ],
      "metadata": {
        "id": "nyyFGYJi0LYI"
      },
      "execution_count": null,
      "outputs": []
    },
    {
      "cell_type": "code",
      "source": [
        "from pyspark.ml.regression import LinearRegression\n",
        "LR = LinearRegression(featuresCol='feat_vec', labelCol='thalachh')"
      ],
      "metadata": {
        "id": "nIwRS-UL0QFu"
      },
      "execution_count": null,
      "outputs": []
    },
    {
      "cell_type": "code",
      "source": [
        "# train the model\n",
        "LR = LR.fit(trainset)"
      ],
      "metadata": {
        "id": "nBb-x2wV0U28"
      },
      "execution_count": null,
      "outputs": []
    },
    {
      "cell_type": "code",
      "source": [
        "LR.coefficients"
      ],
      "metadata": {
        "colab": {
          "base_uri": "https://localhost:8080/"
        },
        "id": "EjMgCt5C0cNs",
        "outputId": "8177e58f-c930-4156-c813-e8b68eeb0d1b"
      },
      "execution_count": null,
      "outputs": [
        {
          "output_type": "execute_result",
          "data": {
            "text/plain": [
              "DenseVector([-1.0386, -5.664, 0.0267, 0.1746])"
            ]
          },
          "metadata": {},
          "execution_count": 54
        }
      ]
    },
    {
      "cell_type": "code",
      "source": [
        "pred = LR.transform(testset)"
      ],
      "metadata": {
        "id": "7CKvUQRa0es8"
      },
      "execution_count": null,
      "outputs": []
    },
    {
      "cell_type": "code",
      "source": [
        "pred = LR.evaluate(testset)"
      ],
      "metadata": {
        "id": "SKSM9sEe0iqL"
      },
      "execution_count": null,
      "outputs": []
    },
    {
      "cell_type": "code",
      "source": [
        "pred.r2 #R2square"
      ],
      "metadata": {
        "colab": {
          "base_uri": "https://localhost:8080/"
        },
        "id": "Bq27SDCT0kz8",
        "outputId": "20b11f6b-032e-46ae-df2f-aae433f8c16c"
      },
      "execution_count": null,
      "outputs": [
        {
          "output_type": "execute_result",
          "data": {
            "text/plain": [
              "0.14811078621267704"
            ]
          },
          "metadata": {},
          "execution_count": 57
        }
      ]
    },
    {
      "cell_type": "code",
      "source": [
        "pred.meanSquaredError"
      ],
      "metadata": {
        "colab": {
          "base_uri": "https://localhost:8080/"
        },
        "id": "w-ZNqfcE0nM6",
        "outputId": "0a79c3a4-a142-4bb3-d707-fe2df1d77336"
      },
      "execution_count": null,
      "outputs": [
        {
          "output_type": "execute_result",
          "data": {
            "text/plain": [
              "470.30571107458337"
            ]
          },
          "metadata": {},
          "execution_count": 58
        }
      ]
    },
    {
      "cell_type": "code",
      "source": [
        "pred.meanAbsoluteError"
      ],
      "metadata": {
        "colab": {
          "base_uri": "https://localhost:8080/"
        },
        "id": "ukdrFqjg0pNc",
        "outputId": "694de517-6f8a-4326-cba4-a32819d47b2f"
      },
      "execution_count": null,
      "outputs": [
        {
          "output_type": "execute_result",
          "data": {
            "text/plain": [
              "16.780100497621135"
            ]
          },
          "metadata": {},
          "execution_count": 59
        }
      ]
    },
    {
      "cell_type": "code",
      "source": [
        "df.show(5)"
      ],
      "metadata": {
        "colab": {
          "base_uri": "https://localhost:8080/"
        },
        "id": "o9Ut09SK0xBD",
        "outputId": "7e10ae41-604e-46b9-d5d3-ed63163359fd"
      },
      "execution_count": null,
      "outputs": [
        {
          "output_type": "stream",
          "name": "stdout",
          "text": [
            "+---+---+---+------+----+---+-------+--------+----+-------+---+---+-----+------+--------------------+\n",
            "|age|sex| cp|trtbps|chol|fbs|restecg|thalachh|exng|oldpeak|slp|caa|thall|output|            feat_vec|\n",
            "+---+---+---+------+----+---+-------+--------+----+-------+---+---+-----+------+--------------------+\n",
            "| 63|  1|  3|   145| 233|  1|      0|     150|   0|    2.3|  0|  0|    1|     1|[63.0,2.3,233.0,1...|\n",
            "| 37|  1|  2|   130| 250|  0|      1|     187|   0|    3.5|  0|  0|    2|     1|[37.0,3.5,250.0,1...|\n",
            "| 41|  0|  1|   130| 204|  0|      0|     172|   0|    1.4|  2|  0|    2|     1|[41.0,1.4,204.0,1...|\n",
            "| 56|  1|  1|   120| 236|  0|      1|     178|   0|    0.8|  2|  0|    2|     1|[56.0,0.8,236.0,1...|\n",
            "| 57|  0|  0|   120| 354|  0|      1|     163|   1|    0.6|  2|  0|    2|     1|[57.0,0.6,354.0,1...|\n",
            "+---+---+---+------+----+---+-------+--------+----+-------+---+---+-----+------+--------------------+\n",
            "only showing top 5 rows\n",
            "\n"
          ]
        }
      ]
    },
    {
      "cell_type": "code",
      "source": [
        "df = df.drop('feat_vec')\n",
        "df.show(5)"
      ],
      "metadata": {
        "colab": {
          "base_uri": "https://localhost:8080/"
        },
        "id": "lFr9mfYM1LWG",
        "outputId": "4c42c48e-de5c-4487-ae99-ad15efab2880"
      },
      "execution_count": null,
      "outputs": [
        {
          "output_type": "stream",
          "name": "stdout",
          "text": [
            "+---+---+---+------+----+---+-------+--------+----+-------+---+---+-----+------+\n",
            "|age|sex| cp|trtbps|chol|fbs|restecg|thalachh|exng|oldpeak|slp|caa|thall|output|\n",
            "+---+---+---+------+----+---+-------+--------+----+-------+---+---+-----+------+\n",
            "| 63|  1|  3|   145| 233|  1|      0|     150|   0|    2.3|  0|  0|    1|     1|\n",
            "| 37|  1|  2|   130| 250|  0|      1|     187|   0|    3.5|  0|  0|    2|     1|\n",
            "| 41|  0|  1|   130| 204|  0|      0|     172|   0|    1.4|  2|  0|    2|     1|\n",
            "| 56|  1|  1|   120| 236|  0|      1|     178|   0|    0.8|  2|  0|    2|     1|\n",
            "| 57|  0|  0|   120| 354|  0|      1|     163|   1|    0.6|  2|  0|    2|     1|\n",
            "+---+---+---+------+----+---+-------+--------+----+-------+---+---+-----+------+\n",
            "only showing top 5 rows\n",
            "\n"
          ]
        }
      ]
    },
    {
      "cell_type": "code",
      "source": [
        "X_cols1 = ['age', 'oldpeak', 'chol', 'thalachh', 'trtbps','fbs','exng']\n",
        "target_col1 = ['output']\n",
        "my_col1 = ['age', 'oldpeak', 'chol', 'thalachh', 'trtbps','fbs','exng','output']"
      ],
      "metadata": {
        "id": "_wFUwYC_1ST8"
      },
      "execution_count": null,
      "outputs": []
    },
    {
      "cell_type": "code",
      "source": [
        "VA1 = VectorAssembler(inputCols=X_cols, outputCol='feature_vector')\n",
        "df = VA1.transform(df)"
      ],
      "metadata": {
        "id": "uT0Gb8qV_Cgs"
      },
      "execution_count": null,
      "outputs": []
    },
    {
      "cell_type": "code",
      "source": [
        "df.show(300)"
      ],
      "metadata": {
        "colab": {
          "base_uri": "https://localhost:8080/"
        },
        "id": "uBvbo2Zc_cax",
        "outputId": "2d033543-335e-41fe-c257-80291fefb2fe"
      },
      "execution_count": null,
      "outputs": [
        {
          "output_type": "stream",
          "name": "stdout",
          "text": [
            "+---+---+---+------+----+---+-------+--------+----+-------+---+---+-----+------+--------------------+\n",
            "|age|sex| cp|trtbps|chol|fbs|restecg|thalachh|exng|oldpeak|slp|caa|thall|output|      feature_vector|\n",
            "+---+---+---+------+----+---+-------+--------+----+-------+---+---+-----+------+--------------------+\n",
            "| 63|  1|  3|   145| 233|  1|      0|     150|   0|    2.3|  0|  0|    1|     1|[63.0,2.3,233.0,1...|\n",
            "| 37|  1|  2|   130| 250|  0|      1|     187|   0|    3.5|  0|  0|    2|     1|[37.0,3.5,250.0,1...|\n",
            "| 41|  0|  1|   130| 204|  0|      0|     172|   0|    1.4|  2|  0|    2|     1|[41.0,1.4,204.0,1...|\n",
            "| 56|  1|  1|   120| 236|  0|      1|     178|   0|    0.8|  2|  0|    2|     1|[56.0,0.8,236.0,1...|\n",
            "| 57|  0|  0|   120| 354|  0|      1|     163|   1|    0.6|  2|  0|    2|     1|[57.0,0.6,354.0,1...|\n",
            "| 57|  1|  0|   140| 192|  0|      1|     148|   0|    0.4|  1|  0|    1|     1|[57.0,0.4,192.0,1...|\n",
            "| 56|  0|  1|   140| 294|  0|      0|     153|   0|    1.3|  1|  0|    2|     1|[56.0,1.3,294.0,1...|\n",
            "| 44|  1|  1|   120| 263|  0|      1|     173|   0|    0.0|  2|  0|    3|     1|[44.0,0.0,263.0,1...|\n",
            "| 52|  1|  2|   172| 199|  1|      1|     162|   0|    0.5|  2|  0|    3|     1|[52.0,0.5,199.0,1...|\n",
            "| 57|  1|  2|   150| 168|  0|      1|     174|   0|    1.6|  2|  0|    2|     1|[57.0,1.6,168.0,1...|\n",
            "| 54|  1|  0|   140| 239|  0|      1|     160|   0|    1.2|  2|  0|    2|     1|[54.0,1.2,239.0,1...|\n",
            "| 48|  0|  2|   130| 275|  0|      1|     139|   0|    0.2|  2|  0|    2|     1|[48.0,0.2,275.0,1...|\n",
            "| 49|  1|  1|   130| 266|  0|      1|     171|   0|    0.6|  2|  0|    2|     1|[49.0,0.6,266.0,1...|\n",
            "| 64|  1|  3|   110| 211|  0|      0|     144|   1|    1.8|  1|  0|    2|     1|[64.0,1.8,211.0,1...|\n",
            "| 58|  0|  3|   150| 283|  1|      0|     162|   0|    1.0|  2|  0|    2|     1|[58.0,1.0,283.0,1...|\n",
            "| 50|  0|  2|   120| 219|  0|      1|     158|   0|    1.6|  1|  0|    2|     1|[50.0,1.6,219.0,1...|\n",
            "| 58|  0|  2|   120| 340|  0|      1|     172|   0|    0.0|  2|  0|    2|     1|[58.0,0.0,340.0,1...|\n",
            "| 66|  0|  3|   150| 226|  0|      1|     114|   0|    2.6|  0|  0|    2|     1|[66.0,2.6,226.0,1...|\n",
            "| 43|  1|  0|   150| 247|  0|      1|     171|   0|    1.5|  2|  0|    2|     1|[43.0,1.5,247.0,1...|\n",
            "| 69|  0|  3|   140| 239|  0|      1|     151|   0|    1.8|  2|  2|    2|     1|[69.0,1.8,239.0,1...|\n",
            "| 59|  1|  0|   135| 234|  0|      1|     161|   0|    0.5|  1|  0|    3|     1|[59.0,0.5,234.0,1...|\n",
            "| 44|  1|  2|   130| 233|  0|      1|     179|   1|    0.4|  2|  0|    2|     1|[44.0,0.4,233.0,1...|\n",
            "| 42|  1|  0|   140| 226|  0|      1|     178|   0|    0.0|  2|  0|    2|     1|[42.0,0.0,226.0,1...|\n",
            "| 61|  1|  2|   150| 243|  1|      1|     137|   1|    1.0|  1|  0|    2|     1|[61.0,1.0,243.0,1...|\n",
            "| 40|  1|  3|   140| 199|  0|      1|     178|   1|    1.4|  2|  0|    3|     1|[40.0,1.4,199.0,1...|\n",
            "| 71|  0|  1|   160| 302|  0|      1|     162|   0|    0.4|  2|  2|    2|     1|[71.0,0.4,302.0,1...|\n",
            "| 59|  1|  2|   150| 212|  1|      1|     157|   0|    1.6|  2|  0|    2|     1|[59.0,1.6,212.0,1...|\n",
            "| 51|  1|  2|   110| 175|  0|      1|     123|   0|    0.6|  2|  0|    2|     1|[51.0,0.6,175.0,1...|\n",
            "| 65|  0|  2|   140| 417|  1|      0|     157|   0|    0.8|  2|  1|    2|     1|[65.0,0.8,417.0,1...|\n",
            "| 53|  1|  2|   130| 197|  1|      0|     152|   0|    1.2|  0|  0|    2|     1|[53.0,1.2,197.0,1...|\n",
            "| 41|  0|  1|   105| 198|  0|      1|     168|   0|    0.0|  2|  1|    2|     1|[41.0,0.0,198.0,1...|\n",
            "| 65|  1|  0|   120| 177|  0|      1|     140|   0|    0.4|  2|  0|    3|     1|[65.0,0.4,177.0,1...|\n",
            "| 44|  1|  1|   130| 219|  0|      0|     188|   0|    0.0|  2|  0|    2|     1|[44.0,0.0,219.0,1...|\n",
            "| 54|  1|  2|   125| 273|  0|      0|     152|   0|    0.5|  0|  1|    2|     1|[54.0,0.5,273.0,1...|\n",
            "| 51|  1|  3|   125| 213|  0|      0|     125|   1|    1.4|  2|  1|    2|     1|[51.0,1.4,213.0,1...|\n",
            "| 46|  0|  2|   142| 177|  0|      0|     160|   1|    1.4|  0|  0|    2|     1|[46.0,1.4,177.0,1...|\n",
            "| 54|  0|  2|   135| 304|  1|      1|     170|   0|    0.0|  2|  0|    2|     1|[54.0,0.0,304.0,1...|\n",
            "| 54|  1|  2|   150| 232|  0|      0|     165|   0|    1.6|  2|  0|    3|     1|[54.0,1.6,232.0,1...|\n",
            "| 65|  0|  2|   155| 269|  0|      1|     148|   0|    0.8|  2|  0|    2|     1|[65.0,0.8,269.0,1...|\n",
            "| 65|  0|  2|   160| 360|  0|      0|     151|   0|    0.8|  2|  0|    2|     1|[65.0,0.8,360.0,1...|\n",
            "| 51|  0|  2|   140| 308|  0|      0|     142|   0|    1.5|  2|  1|    2|     1|[51.0,1.5,308.0,1...|\n",
            "| 48|  1|  1|   130| 245|  0|      0|     180|   0|    0.2|  1|  0|    2|     1|[48.0,0.2,245.0,1...|\n",
            "| 45|  1|  0|   104| 208|  0|      0|     148|   1|    3.0|  1|  0|    2|     1|[45.0,3.0,208.0,1...|\n",
            "| 53|  0|  0|   130| 264|  0|      0|     143|   0|    0.4|  1|  0|    2|     1|[53.0,0.4,264.0,1...|\n",
            "| 39|  1|  2|   140| 321|  0|      0|     182|   0|    0.0|  2|  0|    2|     1|[39.0,0.0,321.0,1...|\n",
            "| 52|  1|  1|   120| 325|  0|      1|     172|   0|    0.2|  2|  0|    2|     1|[52.0,0.2,325.0,1...|\n",
            "| 44|  1|  2|   140| 235|  0|      0|     180|   0|    0.0|  2|  0|    2|     1|[44.0,0.0,235.0,1...|\n",
            "| 47|  1|  2|   138| 257|  0|      0|     156|   0|    0.0|  2|  0|    2|     1|[47.0,0.0,257.0,1...|\n",
            "| 53|  0|  2|   128| 216|  0|      0|     115|   0|    0.0|  2|  0|    0|     1|[53.0,0.0,216.0,1...|\n",
            "| 53|  0|  0|   138| 234|  0|      0|     160|   0|    0.0|  2|  0|    2|     1|[53.0,0.0,234.0,1...|\n",
            "| 51|  0|  2|   130| 256|  0|      0|     149|   0|    0.5|  2|  0|    2|     1|[51.0,0.5,256.0,1...|\n",
            "| 66|  1|  0|   120| 302|  0|      0|     151|   0|    0.4|  1|  0|    2|     1|[66.0,0.4,302.0,1...|\n",
            "| 62|  1|  2|   130| 231|  0|      1|     146|   0|    1.8|  1|  3|    3|     1|[62.0,1.8,231.0,1...|\n",
            "| 44|  0|  2|   108| 141|  0|      1|     175|   0|    0.6|  1|  0|    2|     1|[44.0,0.6,141.0,1...|\n",
            "| 63|  0|  2|   135| 252|  0|      0|     172|   0|    0.0|  2|  0|    2|     1|[63.0,0.0,252.0,1...|\n",
            "| 52|  1|  1|   134| 201|  0|      1|     158|   0|    0.8|  2|  1|    2|     1|[52.0,0.8,201.0,1...|\n",
            "| 48|  1|  0|   122| 222|  0|      0|     186|   0|    0.0|  2|  0|    2|     1|[48.0,0.0,222.0,1...|\n",
            "| 45|  1|  0|   115| 260|  0|      0|     185|   0|    0.0|  2|  0|    2|     1|[45.0,0.0,260.0,1...|\n",
            "| 34|  1|  3|   118| 182|  0|      0|     174|   0|    0.0|  2|  0|    2|     1|[34.0,0.0,182.0,1...|\n",
            "| 57|  0|  0|   128| 303|  0|      0|     159|   0|    0.0|  2|  1|    2|     1|[57.0,0.0,303.0,1...|\n",
            "| 71|  0|  2|   110| 265|  1|      0|     130|   0|    0.0|  2|  1|    2|     1|[71.0,0.0,265.0,1...|\n",
            "| 54|  1|  1|   108| 309|  0|      1|     156|   0|    0.0|  2|  0|    3|     1|[54.0,0.0,309.0,1...|\n",
            "| 52|  1|  3|   118| 186|  0|      0|     190|   0|    0.0|  1|  0|    1|     1|[52.0,0.0,186.0,1...|\n",
            "| 41|  1|  1|   135| 203|  0|      1|     132|   0|    0.0|  1|  0|    1|     1|[41.0,0.0,203.0,1...|\n",
            "| 58|  1|  2|   140| 211|  1|      0|     165|   0|    0.0|  2|  0|    2|     1|[58.0,0.0,211.0,1...|\n",
            "| 35|  0|  0|   138| 183|  0|      1|     182|   0|    1.4|  2|  0|    2|     1|[35.0,1.4,183.0,1...|\n",
            "| 51|  1|  2|   100| 222|  0|      1|     143|   1|    1.2|  1|  0|    2|     1|[51.0,1.2,222.0,1...|\n",
            "| 45|  0|  1|   130| 234|  0|      0|     175|   0|    0.6|  1|  0|    2|     1|[45.0,0.6,234.0,1...|\n",
            "| 44|  1|  1|   120| 220|  0|      1|     170|   0|    0.0|  2|  0|    2|     1|[44.0,0.0,220.0,1...|\n",
            "| 62|  0|  0|   124| 209|  0|      1|     163|   0|    0.0|  2|  0|    2|     1|[62.0,0.0,209.0,1...|\n",
            "| 54|  1|  2|   120| 258|  0|      0|     147|   0|    0.4|  1|  0|    3|     1|[54.0,0.4,258.0,1...|\n",
            "| 51|  1|  2|    94| 227|  0|      1|     154|   1|    0.0|  2|  1|    3|     1|[51.0,0.0,227.0,9...|\n",
            "| 29|  1|  1|   130| 204|  0|      0|     202|   0|    0.0|  2|  0|    2|     1|[29.0,0.0,204.0,1...|\n",
            "| 51|  1|  0|   140| 261|  0|      0|     186|   1|    0.0|  2|  0|    2|     1|[51.0,0.0,261.0,1...|\n",
            "| 43|  0|  2|   122| 213|  0|      1|     165|   0|    0.2|  1|  0|    2|     1|[43.0,0.2,213.0,1...|\n",
            "| 55|  0|  1|   135| 250|  0|      0|     161|   0|    1.4|  1|  0|    2|     1|[55.0,1.4,250.0,1...|\n",
            "| 51|  1|  2|   125| 245|  1|      0|     166|   0|    2.4|  1|  0|    2|     1|[51.0,2.4,245.0,1...|\n",
            "| 59|  1|  1|   140| 221|  0|      1|     164|   1|    0.0|  2|  0|    2|     1|[59.0,0.0,221.0,1...|\n",
            "| 52|  1|  1|   128| 205|  1|      1|     184|   0|    0.0|  2|  0|    2|     1|[52.0,0.0,205.0,1...|\n",
            "| 58|  1|  2|   105| 240|  0|      0|     154|   1|    0.6|  1|  0|    3|     1|[58.0,0.6,240.0,1...|\n",
            "| 41|  1|  2|   112| 250|  0|      1|     179|   0|    0.0|  2|  0|    2|     1|[41.0,0.0,250.0,1...|\n",
            "| 45|  1|  1|   128| 308|  0|      0|     170|   0|    0.0|  2|  0|    2|     1|[45.0,0.0,308.0,1...|\n",
            "| 60|  0|  2|   102| 318|  0|      1|     160|   0|    0.0|  2|  1|    2|     1|[60.0,0.0,318.0,1...|\n",
            "| 52|  1|  3|   152| 298|  1|      1|     178|   0|    1.2|  1|  0|    3|     1|[52.0,1.2,298.0,1...|\n",
            "| 42|  0|  0|   102| 265|  0|      0|     122|   0|    0.6|  1|  0|    2|     1|[42.0,0.6,265.0,1...|\n",
            "| 67|  0|  2|   115| 564|  0|      0|     160|   0|    1.6|  1|  0|    3|     1|[67.0,1.6,564.0,1...|\n",
            "| 68|  1|  2|   118| 277|  0|      1|     151|   0|    1.0|  2|  1|    3|     1|[68.0,1.0,277.0,1...|\n",
            "| 46|  1|  1|   101| 197|  1|      1|     156|   0|    0.0|  2|  0|    3|     1|[46.0,0.0,197.0,1...|\n",
            "| 54|  0|  2|   110| 214|  0|      1|     158|   0|    1.6|  1|  0|    2|     1|[54.0,1.6,214.0,1...|\n",
            "| 58|  0|  0|   100| 248|  0|      0|     122|   0|    1.0|  1|  0|    2|     1|[58.0,1.0,248.0,1...|\n",
            "| 48|  1|  2|   124| 255|  1|      1|     175|   0|    0.0|  2|  2|    2|     1|[48.0,0.0,255.0,1...|\n",
            "| 57|  1|  0|   132| 207|  0|      1|     168|   1|    0.0|  2|  0|    3|     1|[57.0,0.0,207.0,1...|\n",
            "| 52|  1|  2|   138| 223|  0|      1|     169|   0|    0.0|  2|  4|    2|     1|[52.0,0.0,223.0,1...|\n",
            "| 54|  0|  1|   132| 288|  1|      0|     159|   1|    0.0|  2|  1|    2|     1|[54.0,0.0,288.0,1...|\n",
            "| 45|  0|  1|   112| 160|  0|      1|     138|   0|    0.0|  1|  0|    2|     1|[45.0,0.0,160.0,1...|\n",
            "| 53|  1|  0|   142| 226|  0|      0|     111|   1|    0.0|  2|  0|    3|     1|[53.0,0.0,226.0,1...|\n",
            "| 62|  0|  0|   140| 394|  0|      0|     157|   0|    1.2|  1|  0|    2|     1|[62.0,1.2,394.0,1...|\n",
            "| 52|  1|  0|   108| 233|  1|      1|     147|   0|    0.1|  2|  3|    3|     1|[52.0,0.1,233.0,1...|\n",
            "| 43|  1|  2|   130| 315|  0|      1|     162|   0|    1.9|  2|  1|    2|     1|[43.0,1.9,315.0,1...|\n",
            "| 53|  1|  2|   130| 246|  1|      0|     173|   0|    0.0|  2|  3|    2|     1|[53.0,0.0,246.0,1...|\n",
            "| 42|  1|  3|   148| 244|  0|      0|     178|   0|    0.8|  2|  2|    2|     1|[42.0,0.8,244.0,1...|\n",
            "| 59|  1|  3|   178| 270|  0|      0|     145|   0|    4.2|  0|  0|    3|     1|[59.0,4.2,270.0,1...|\n",
            "| 63|  0|  1|   140| 195|  0|      1|     179|   0|    0.0|  2|  2|    2|     1|[63.0,0.0,195.0,1...|\n",
            "| 42|  1|  2|   120| 240|  1|      1|     194|   0|    0.8|  0|  0|    3|     1|[42.0,0.8,240.0,1...|\n",
            "| 50|  1|  2|   129| 196|  0|      1|     163|   0|    0.0|  2|  0|    2|     1|[50.0,0.0,196.0,1...|\n",
            "| 68|  0|  2|   120| 211|  0|      0|     115|   0|    1.5|  1|  0|    2|     1|[68.0,1.5,211.0,1...|\n",
            "| 69|  1|  3|   160| 234|  1|      0|     131|   0|    0.1|  1|  1|    2|     1|[69.0,0.1,234.0,1...|\n",
            "| 45|  0|  0|   138| 236|  0|      0|     152|   1|    0.2|  1|  0|    2|     1|[45.0,0.2,236.0,1...|\n",
            "| 50|  0|  1|   120| 244|  0|      1|     162|   0|    1.1|  2|  0|    2|     1|[50.0,1.1,244.0,1...|\n",
            "| 50|  0|  0|   110| 254|  0|      0|     159|   0|    0.0|  2|  0|    2|     1|[50.0,0.0,254.0,1...|\n",
            "| 64|  0|  0|   180| 325|  0|      1|     154|   1|    0.0|  2|  0|    2|     1|[64.0,0.0,325.0,1...|\n",
            "| 57|  1|  2|   150| 126|  1|      1|     173|   0|    0.2|  2|  1|    3|     1|[57.0,0.2,126.0,1...|\n",
            "| 64|  0|  2|   140| 313|  0|      1|     133|   0|    0.2|  2|  0|    3|     1|[64.0,0.2,313.0,1...|\n",
            "| 43|  1|  0|   110| 211|  0|      1|     161|   0|    0.0|  2|  0|    3|     1|[43.0,0.0,211.0,1...|\n",
            "| 55|  1|  1|   130| 262|  0|      1|     155|   0|    0.0|  2|  0|    2|     1|[55.0,0.0,262.0,1...|\n",
            "| 37|  0|  2|   120| 215|  0|      1|     170|   0|    0.0|  2|  0|    2|     1|[37.0,0.0,215.0,1...|\n",
            "| 41|  1|  2|   130| 214|  0|      0|     168|   0|    2.0|  1|  0|    2|     1|[41.0,2.0,214.0,1...|\n",
            "| 56|  1|  3|   120| 193|  0|      0|     162|   0|    1.9|  1|  0|    3|     1|[56.0,1.9,193.0,1...|\n",
            "| 46|  0|  1|   105| 204|  0|      1|     172|   0|    0.0|  2|  0|    2|     1|[46.0,0.0,204.0,1...|\n",
            "| 46|  0|  0|   138| 243|  0|      0|     152|   1|    0.0|  1|  0|    2|     1|[46.0,0.0,243.0,1...|\n",
            "| 64|  0|  0|   130| 303|  0|      1|     122|   0|    2.0|  1|  2|    2|     1|[64.0,2.0,303.0,1...|\n",
            "| 59|  1|  0|   138| 271|  0|      0|     182|   0|    0.0|  2|  0|    2|     1|[59.0,0.0,271.0,1...|\n",
            "| 41|  0|  2|   112| 268|  0|      0|     172|   1|    0.0|  2|  0|    2|     1|[41.0,0.0,268.0,1...|\n",
            "| 54|  0|  2|   108| 267|  0|      0|     167|   0|    0.0|  2|  0|    2|     1|[54.0,0.0,267.0,1...|\n",
            "| 39|  0|  2|    94| 199|  0|      1|     179|   0|    0.0|  2|  0|    2|     1|[39.0,0.0,199.0,9...|\n",
            "| 34|  0|  1|   118| 210|  0|      1|     192|   0|    0.7|  2|  0|    2|     1|[34.0,0.7,210.0,1...|\n",
            "| 47|  1|  0|   112| 204|  0|      1|     143|   0|    0.1|  2|  0|    2|     1|[47.0,0.1,204.0,1...|\n",
            "| 67|  0|  2|   152| 277|  0|      1|     172|   0|    0.0|  2|  1|    2|     1|[67.0,0.0,277.0,1...|\n",
            "| 52|  0|  2|   136| 196|  0|      0|     169|   0|    0.1|  1|  0|    2|     1|[52.0,0.1,196.0,1...|\n",
            "| 74|  0|  1|   120| 269|  0|      0|     121|   1|    0.2|  2|  1|    2|     1|[74.0,0.2,269.0,1...|\n",
            "| 54|  0|  2|   160| 201|  0|      1|     163|   0|    0.0|  2|  1|    2|     1|[54.0,0.0,201.0,1...|\n",
            "| 49|  0|  1|   134| 271|  0|      1|     162|   0|    0.0|  1|  0|    2|     1|[49.0,0.0,271.0,1...|\n",
            "| 42|  1|  1|   120| 295|  0|      1|     162|   0|    0.0|  2|  0|    2|     1|[42.0,0.0,295.0,1...|\n",
            "| 41|  1|  1|   110| 235|  0|      1|     153|   0|    0.0|  2|  0|    2|     1|[41.0,0.0,235.0,1...|\n",
            "| 41|  0|  1|   126| 306|  0|      1|     163|   0|    0.0|  2|  0|    2|     1|[41.0,0.0,306.0,1...|\n",
            "| 49|  0|  0|   130| 269|  0|      1|     163|   0|    0.0|  2|  0|    2|     1|[49.0,0.0,269.0,1...|\n",
            "| 60|  0|  2|   120| 178|  1|      1|      96|   0|    0.0|  2|  0|    2|     1|[60.0,0.0,178.0,1...|\n",
            "| 62|  1|  1|   128| 208|  1|      0|     140|   0|    0.0|  2|  0|    2|     1|[62.0,0.0,208.0,1...|\n",
            "| 57|  1|  0|   110| 201|  0|      1|     126|   1|    1.5|  1|  0|    1|     1|[57.0,1.5,201.0,1...|\n",
            "| 64|  1|  0|   128| 263|  0|      1|     105|   1|    0.2|  1|  1|    3|     1|[64.0,0.2,263.0,1...|\n",
            "| 51|  0|  2|   120| 295|  0|      0|     157|   0|    0.6|  2|  0|    2|     1|[51.0,0.6,295.0,1...|\n",
            "| 43|  1|  0|   115| 303|  0|      1|     181|   0|    1.2|  1|  0|    2|     1|[43.0,1.2,303.0,1...|\n",
            "| 42|  0|  2|   120| 209|  0|      1|     173|   0|    0.0|  1|  0|    2|     1|[42.0,0.0,209.0,1...|\n",
            "| 67|  0|  0|   106| 223|  0|      1|     142|   0|    0.3|  2|  2|    2|     1|[67.0,0.3,223.0,1...|\n",
            "| 76|  0|  2|   140| 197|  0|      2|     116|   0|    1.1|  1|  0|    2|     1|[76.0,1.1,197.0,1...|\n",
            "| 70|  1|  1|   156| 245|  0|      0|     143|   0|    0.0|  2|  0|    2|     1|[70.0,0.0,245.0,1...|\n",
            "| 44|  0|  2|   118| 242|  0|      1|     149|   0|    0.3|  1|  1|    2|     1|[44.0,0.3,242.0,1...|\n",
            "| 60|  0|  3|   150| 240|  0|      1|     171|   0|    0.9|  2|  0|    2|     1|[60.0,0.9,240.0,1...|\n",
            "| 44|  1|  2|   120| 226|  0|      1|     169|   0|    0.0|  2|  0|    2|     1|[44.0,0.0,226.0,1...|\n",
            "| 42|  1|  2|   130| 180|  0|      1|     150|   0|    0.0|  2|  0|    2|     1|[42.0,0.0,180.0,1...|\n",
            "| 66|  1|  0|   160| 228|  0|      0|     138|   0|    2.3|  2|  0|    1|     1|[66.0,2.3,228.0,1...|\n",
            "| 71|  0|  0|   112| 149|  0|      1|     125|   0|    1.6|  1|  0|    2|     1|[71.0,1.6,149.0,1...|\n",
            "| 64|  1|  3|   170| 227|  0|      0|     155|   0|    0.6|  1|  0|    3|     1|[64.0,0.6,227.0,1...|\n",
            "| 66|  0|  2|   146| 278|  0|      0|     152|   0|    0.0|  1|  1|    2|     1|[66.0,0.0,278.0,1...|\n",
            "| 39|  0|  2|   138| 220|  0|      1|     152|   0|    0.0|  1|  0|    2|     1|[39.0,0.0,220.0,1...|\n",
            "| 58|  0|  0|   130| 197|  0|      1|     131|   0|    0.6|  1|  0|    2|     1|[58.0,0.6,197.0,1...|\n",
            "| 47|  1|  2|   130| 253|  0|      1|     179|   0|    0.0|  2|  0|    2|     1|[47.0,0.0,253.0,1...|\n",
            "| 35|  1|  1|   122| 192|  0|      1|     174|   0|    0.0|  2|  0|    2|     1|[35.0,0.0,192.0,1...|\n",
            "| 58|  1|  1|   125| 220|  0|      1|     144|   0|    0.4|  1|  4|    3|     1|[58.0,0.4,220.0,1...|\n",
            "| 56|  1|  1|   130| 221|  0|      0|     163|   0|    0.0|  2|  0|    3|     1|[56.0,0.0,221.0,1...|\n",
            "| 56|  1|  1|   120| 240|  0|      1|     169|   0|    0.0|  0|  0|    2|     1|[56.0,0.0,240.0,1...|\n",
            "| 55|  0|  1|   132| 342|  0|      1|     166|   0|    1.2|  2|  0|    2|     1|[55.0,1.2,342.0,1...|\n",
            "| 41|  1|  1|   120| 157|  0|      1|     182|   0|    0.0|  2|  0|    2|     1|[41.0,0.0,157.0,1...|\n",
            "| 38|  1|  2|   138| 175|  0|      1|     173|   0|    0.0|  2|  4|    2|     1|[38.0,0.0,175.0,1...|\n",
            "| 38|  1|  2|   138| 175|  0|      1|     173|   0|    0.0|  2|  4|    2|     1|[38.0,0.0,175.0,1...|\n",
            "| 67|  1|  0|   160| 286|  0|      0|     108|   1|    1.5|  1|  3|    2|     0|[67.0,1.5,286.0,1...|\n",
            "| 67|  1|  0|   120| 229|  0|      0|     129|   1|    2.6|  1|  2|    3|     0|[67.0,2.6,229.0,1...|\n",
            "| 62|  0|  0|   140| 268|  0|      0|     160|   0|    3.6|  0|  2|    2|     0|[62.0,3.6,268.0,1...|\n",
            "| 63|  1|  0|   130| 254|  0|      0|     147|   0|    1.4|  1|  1|    3|     0|[63.0,1.4,254.0,1...|\n",
            "| 53|  1|  0|   140| 203|  1|      0|     155|   1|    3.1|  0|  0|    3|     0|[53.0,3.1,203.0,1...|\n",
            "| 56|  1|  2|   130| 256|  1|      0|     142|   1|    0.6|  1|  1|    1|     0|[56.0,0.6,256.0,1...|\n",
            "| 48|  1|  1|   110| 229|  0|      1|     168|   0|    1.0|  0|  0|    3|     0|[48.0,1.0,229.0,1...|\n",
            "| 58|  1|  1|   120| 284|  0|      0|     160|   0|    1.8|  1|  0|    2|     0|[58.0,1.8,284.0,1...|\n",
            "| 58|  1|  2|   132| 224|  0|      0|     173|   0|    3.2|  2|  2|    3|     0|[58.0,3.2,224.0,1...|\n",
            "| 60|  1|  0|   130| 206|  0|      0|     132|   1|    2.4|  1|  2|    3|     0|[60.0,2.4,206.0,1...|\n",
            "| 40|  1|  0|   110| 167|  0|      0|     114|   1|    2.0|  1|  0|    3|     0|[40.0,2.0,167.0,1...|\n",
            "| 60|  1|  0|   117| 230|  1|      1|     160|   1|    1.4|  2|  2|    3|     0|[60.0,1.4,230.0,1...|\n",
            "| 64|  1|  2|   140| 335|  0|      1|     158|   0|    0.0|  2|  0|    2|     0|[64.0,0.0,335.0,1...|\n",
            "| 43|  1|  0|   120| 177|  0|      0|     120|   1|    2.5|  1|  0|    3|     0|[43.0,2.5,177.0,1...|\n",
            "| 57|  1|  0|   150| 276|  0|      0|     112|   1|    0.6|  1|  1|    1|     0|[57.0,0.6,276.0,1...|\n",
            "| 55|  1|  0|   132| 353|  0|      1|     132|   1|    1.2|  1|  1|    3|     0|[55.0,1.2,353.0,1...|\n",
            "| 65|  0|  0|   150| 225|  0|      0|     114|   0|    1.0|  1|  3|    3|     0|[65.0,1.0,225.0,1...|\n",
            "| 61|  0|  0|   130| 330|  0|      0|     169|   0|    0.0|  2|  0|    2|     0|[61.0,0.0,330.0,1...|\n",
            "| 58|  1|  2|   112| 230|  0|      0|     165|   0|    2.5|  1|  1|    3|     0|[58.0,2.5,230.0,1...|\n",
            "| 50|  1|  0|   150| 243|  0|      0|     128|   0|    2.6|  1|  0|    3|     0|[50.0,2.6,243.0,1...|\n",
            "| 44|  1|  0|   112| 290|  0|      0|     153|   0|    0.0|  2|  1|    2|     0|[44.0,0.0,290.0,1...|\n",
            "| 60|  1|  0|   130| 253|  0|      1|     144|   1|    1.4|  2|  1|    3|     0|[60.0,1.4,253.0,1...|\n",
            "| 54|  1|  0|   124| 266|  0|      0|     109|   1|    2.2|  1|  1|    3|     0|[54.0,2.2,266.0,1...|\n",
            "| 50|  1|  2|   140| 233|  0|      1|     163|   0|    0.6|  1|  1|    3|     0|[50.0,0.6,233.0,1...|\n",
            "| 41|  1|  0|   110| 172|  0|      0|     158|   0|    0.0|  2|  0|    3|     0|[41.0,0.0,172.0,1...|\n",
            "| 51|  0|  0|   130| 305|  0|      1|     142|   1|    1.2|  1|  0|    3|     0|[51.0,1.2,305.0,1...|\n",
            "| 58|  1|  0|   128| 216|  0|      0|     131|   1|    2.2|  1|  3|    3|     0|[58.0,2.2,216.0,1...|\n",
            "| 54|  1|  0|   120| 188|  0|      1|     113|   0|    1.4|  1|  1|    3|     0|[54.0,1.4,188.0,1...|\n",
            "| 60|  1|  0|   145| 282|  0|      0|     142|   1|    2.8|  1|  2|    3|     0|[60.0,2.8,282.0,1...|\n",
            "| 60|  1|  2|   140| 185|  0|      0|     155|   0|    3.0|  1|  0|    2|     0|[60.0,3.0,185.0,1...|\n",
            "| 59|  1|  0|   170| 326|  0|      0|     140|   1|    3.4|  0|  0|    3|     0|[59.0,3.4,326.0,1...|\n",
            "| 46|  1|  2|   150| 231|  0|      1|     147|   0|    3.6|  1|  0|    2|     0|[46.0,3.6,231.0,1...|\n",
            "| 67|  1|  0|   125| 254|  1|      1|     163|   0|    0.2|  1|  2|    3|     0|[67.0,0.2,254.0,1...|\n",
            "| 62|  1|  0|   120| 267|  0|      1|      99|   1|    1.8|  1|  2|    3|     0|[62.0,1.8,267.0,1...|\n",
            "| 65|  1|  0|   110| 248|  0|      0|     158|   0|    0.6|  2|  2|    1|     0|[65.0,0.6,248.0,1...|\n",
            "| 44|  1|  0|   110| 197|  0|      0|     177|   0|    0.0|  2|  1|    2|     0|[44.0,0.0,197.0,1...|\n",
            "| 60|  1|  0|   125| 258|  0|      0|     141|   1|    2.8|  1|  1|    3|     0|[60.0,2.8,258.0,1...|\n",
            "| 58|  1|  0|   150| 270|  0|      0|     111|   1|    0.8|  2|  0|    3|     0|[58.0,0.8,270.0,1...|\n",
            "| 68|  1|  2|   180| 274|  1|      0|     150|   1|    1.6|  1|  0|    3|     0|[68.0,1.6,274.0,1...|\n",
            "| 62|  0|  0|   160| 164|  0|      0|     145|   0|    6.2|  0|  3|    3|     0|[62.0,6.2,164.0,1...|\n",
            "| 52|  1|  0|   128| 255|  0|      1|     161|   1|    0.0|  2|  1|    3|     0|[52.0,0.0,255.0,1...|\n",
            "| 59|  1|  0|   110| 239|  0|      0|     142|   1|    1.2|  1|  1|    3|     0|[59.0,1.2,239.0,1...|\n",
            "| 60|  0|  0|   150| 258|  0|      0|     157|   0|    2.6|  1|  2|    3|     0|[60.0,2.6,258.0,1...|\n",
            "| 49|  1|  2|   120| 188|  0|      1|     139|   0|    2.0|  1|  3|    3|     0|[49.0,2.0,188.0,1...|\n",
            "| 59|  1|  0|   140| 177|  0|      1|     162|   1|    0.0|  2|  1|    3|     0|[59.0,0.0,177.0,1...|\n",
            "| 57|  1|  2|   128| 229|  0|      0|     150|   0|    0.4|  1|  1|    3|     0|[57.0,0.4,229.0,1...|\n",
            "| 61|  1|  0|   120| 260|  0|      1|     140|   1|    3.6|  1|  1|    3|     0|[61.0,3.6,260.0,1...|\n",
            "| 39|  1|  0|   118| 219|  0|      1|     140|   0|    1.2|  1|  0|    3|     0|[39.0,1.2,219.0,1...|\n",
            "| 61|  0|  0|   145| 307|  0|      0|     146|   1|    1.0|  1|  0|    3|     0|[61.0,1.0,307.0,1...|\n",
            "| 56|  1|  0|   125| 249|  1|      0|     144|   1|    1.2|  1|  1|    2|     0|[56.0,1.2,249.0,1...|\n",
            "| 43|  0|  0|   132| 341|  1|      0|     136|   1|    3.0|  1|  0|    3|     0|[43.0,3.0,341.0,1...|\n",
            "| 62|  0|  2|   130| 263|  0|      1|      97|   0|    1.2|  1|  1|    3|     0|[62.0,1.2,263.0,1...|\n",
            "| 63|  1|  0|   130| 330|  1|      0|     132|   1|    1.8|  2|  3|    3|     0|[63.0,1.8,330.0,1...|\n",
            "| 65|  1|  0|   135| 254|  0|      0|     127|   0|    2.8|  1|  1|    3|     0|[65.0,2.8,254.0,1...|\n",
            "| 48|  1|  0|   130| 256|  1|      0|     150|   1|    0.0|  2|  2|    3|     0|[48.0,0.0,256.0,1...|\n",
            "| 63|  0|  0|   150| 407|  0|      0|     154|   0|    4.0|  1|  3|    3|     0|[63.0,4.0,407.0,1...|\n",
            "| 55|  1|  0|   140| 217|  0|      1|     111|   1|    5.6|  0|  0|    3|     0|[55.0,5.6,217.0,1...|\n",
            "| 65|  1|  3|   138| 282|  1|      0|     174|   0|    1.4|  1|  1|    2|     0|[65.0,1.4,282.0,1...|\n",
            "| 56|  0|  0|   200| 288|  1|      0|     133|   1|    4.0|  0|  2|    3|     0|[56.0,4.0,288.0,2...|\n",
            "| 54|  1|  0|   110| 239|  0|      1|     126|   1|    2.8|  1|  1|    3|     0|[54.0,2.8,239.0,1...|\n",
            "| 70|  1|  0|   145| 174|  0|      1|     125|   1|    2.6|  0|  0|    3|     0|[70.0,2.6,174.0,1...|\n",
            "| 62|  1|  1|   120| 281|  0|      0|     103|   0|    1.4|  1|  1|    3|     0|[62.0,1.4,281.0,1...|\n",
            "| 35|  1|  0|   120| 198|  0|      1|     130|   1|    1.6|  1|  0|    3|     0|[35.0,1.6,198.0,1...|\n",
            "| 59|  1|  3|   170| 288|  0|      0|     159|   0|    0.2|  1|  0|    3|     0|[59.0,0.2,288.0,1...|\n",
            "| 64|  1|  2|   125| 309|  0|      1|     131|   1|    1.8|  1|  0|    3|     0|[64.0,1.8,309.0,1...|\n",
            "| 47|  1|  2|   108| 243|  0|      1|     152|   0|    0.0|  2|  0|    2|     0|[47.0,0.0,243.0,1...|\n",
            "| 57|  1|  0|   165| 289|  1|      0|     124|   0|    1.0|  1|  3|    3|     0|[57.0,1.0,289.0,1...|\n",
            "| 55|  1|  0|   160| 289|  0|      0|     145|   1|    0.8|  1|  1|    3|     0|[55.0,0.8,289.0,1...|\n",
            "| 64|  1|  0|   120| 246|  0|      0|      96|   1|    2.2|  0|  1|    2|     0|[64.0,2.2,246.0,1...|\n",
            "| 70|  1|  0|   130| 322|  0|      0|     109|   0|    2.4|  1|  3|    2|     0|[70.0,2.4,322.0,1...|\n",
            "| 51|  1|  0|   140| 299|  0|      1|     173|   1|    1.6|  2|  0|    3|     0|[51.0,1.6,299.0,1...|\n",
            "| 58|  1|  0|   125| 300|  0|      0|     171|   0|    0.0|  2|  2|    3|     0|[58.0,0.0,300.0,1...|\n",
            "| 60|  1|  0|   140| 293|  0|      0|     170|   0|    1.2|  1|  2|    3|     0|[60.0,1.2,293.0,1...|\n",
            "| 77|  1|  0|   125| 304|  0|      0|     162|   1|    0.0|  2|  3|    2|     0|[77.0,0.0,304.0,1...|\n",
            "| 35|  1|  0|   126| 282|  0|      0|     156|   1|    0.0|  2|  0|    3|     0|[35.0,0.0,282.0,1...|\n",
            "| 70|  1|  2|   160| 269|  0|      1|     112|   1|    2.9|  1|  1|    3|     0|[70.0,2.9,269.0,1...|\n",
            "| 59|  0|  0|   174| 249|  0|      1|     143|   1|    0.0|  1|  0|    2|     0|[59.0,0.0,249.0,1...|\n",
            "| 64|  1|  0|   145| 212|  0|      0|     132|   0|    2.0|  1|  2|    1|     0|[64.0,2.0,212.0,1...|\n",
            "| 57|  1|  0|   152| 274|  0|      1|      88|   1|    1.2|  1|  1|    3|     0|[57.0,1.2,274.0,1...|\n",
            "| 56|  1|  0|   132| 184|  0|      0|     105|   1|    2.1|  1|  1|    1|     0|[56.0,2.1,184.0,1...|\n",
            "| 48|  1|  0|   124| 274|  0|      0|     166|   0|    0.5|  1|  0|    3|     0|[48.0,0.5,274.0,1...|\n",
            "| 56|  0|  0|   134| 409|  0|      0|     150|   1|    1.9|  1|  2|    3|     0|[56.0,1.9,409.0,1...|\n",
            "| 66|  1|  1|   160| 246|  0|      1|     120|   1|    0.0|  1|  3|    1|     0|[66.0,0.0,246.0,1...|\n",
            "| 54|  1|  1|   192| 283|  0|      0|     195|   0|    0.0|  2|  1|    3|     0|[54.0,0.0,283.0,1...|\n",
            "| 69|  1|  2|   140| 254|  0|      0|     146|   0|    2.0|  1|  3|    3|     0|[69.0,2.0,254.0,1...|\n",
            "| 51|  1|  0|   140| 298|  0|      1|     122|   1|    4.2|  1|  3|    3|     0|[51.0,4.2,298.0,1...|\n",
            "| 43|  1|  0|   132| 247|  1|      0|     143|   1|    0.1|  1|  4|    3|     0|[43.0,0.1,247.0,1...|\n",
            "| 62|  0|  0|   138| 294|  1|      1|     106|   0|    1.9|  1|  3|    2|     0|[62.0,1.9,294.0,1...|\n",
            "| 67|  1|  0|   100| 299|  0|      0|     125|   1|    0.9|  1|  2|    2|     0|[67.0,0.9,299.0,1...|\n",
            "| 59|  1|  3|   160| 273|  0|      0|     125|   0|    0.0|  2|  0|    2|     0|[59.0,0.0,273.0,1...|\n",
            "| 45|  1|  0|   142| 309|  0|      0|     147|   1|    0.0|  1|  3|    3|     0|[45.0,0.0,309.0,1...|\n",
            "| 58|  1|  0|   128| 259|  0|      0|     130|   1|    3.0|  1|  2|    3|     0|[58.0,3.0,259.0,1...|\n",
            "| 50|  1|  0|   144| 200|  0|      0|     126|   1|    0.9|  1|  0|    3|     0|[50.0,0.9,200.0,1...|\n",
            "| 62|  0|  0|   150| 244|  0|      1|     154|   1|    1.4|  1|  0|    2|     0|[62.0,1.4,244.0,1...|\n",
            "| 38|  1|  3|   120| 231|  0|      1|     182|   1|    3.8|  1|  0|    3|     0|[38.0,3.8,231.0,1...|\n",
            "| 66|  0|  0|   178| 228|  1|      1|     165|   1|    1.0|  1|  2|    3|     0|[66.0,1.0,228.0,1...|\n",
            "| 52|  1|  0|   112| 230|  0|      1|     160|   0|    0.0|  2|  1|    2|     0|[52.0,0.0,230.0,1...|\n",
            "| 53|  1|  0|   123| 282|  0|      1|      95|   1|    2.0|  1|  2|    3|     0|[53.0,2.0,282.0,1...|\n",
            "| 63|  0|  0|   108| 269|  0|      1|     169|   1|    1.8|  1|  2|    2|     0|[63.0,1.8,269.0,1...|\n",
            "| 54|  1|  0|   110| 206|  0|      0|     108|   1|    0.0|  1|  1|    2|     0|[54.0,0.0,206.0,1...|\n",
            "| 66|  1|  0|   112| 212|  0|      0|     132|   1|    0.1|  2|  1|    2|     0|[66.0,0.1,212.0,1...|\n",
            "| 55|  0|  0|   180| 327|  0|      2|     117|   1|    3.4|  1|  0|    2|     0|[55.0,3.4,327.0,1...|\n",
            "| 49|  1|  2|   118| 149|  0|      0|     126|   0|    0.8|  2|  3|    2|     0|[49.0,0.8,149.0,1...|\n",
            "| 54|  1|  0|   122| 286|  0|      0|     116|   1|    3.2|  1|  2|    2|     0|[54.0,3.2,286.0,1...|\n",
            "| 56|  1|  0|   130| 283|  1|      0|     103|   1|    1.6|  0|  0|    3|     0|[56.0,1.6,283.0,1...|\n",
            "| 46|  1|  0|   120| 249|  0|      0|     144|   0|    0.8|  2|  0|    3|     0|[46.0,0.8,249.0,1...|\n",
            "| 61|  1|  3|   134| 234|  0|      1|     145|   0|    2.6|  1|  2|    2|     0|[61.0,2.6,234.0,1...|\n",
            "| 67|  1|  0|   120| 237|  0|      1|      71|   0|    1.0|  1|  0|    2|     0|[67.0,1.0,237.0,1...|\n",
            "| 58|  1|  0|   100| 234|  0|      1|     156|   0|    0.1|  2|  1|    3|     0|[58.0,0.1,234.0,1...|\n",
            "| 47|  1|  0|   110| 275|  0|      0|     118|   1|    1.0|  1|  1|    2|     0|[47.0,1.0,275.0,1...|\n",
            "| 52|  1|  0|   125| 212|  0|      1|     168|   0|    1.0|  2|  2|    3|     0|[52.0,1.0,212.0,1...|\n",
            "| 58|  1|  0|   146| 218|  0|      1|     105|   0|    2.0|  1|  1|    3|     0|[58.0,2.0,218.0,1...|\n",
            "| 57|  1|  1|   124| 261|  0|      1|     141|   0|    0.3|  2|  0|    3|     0|[57.0,0.3,261.0,1...|\n",
            "| 58|  0|  1|   136| 319|  1|      0|     152|   0|    0.0|  2|  2|    2|     0|[58.0,0.0,319.0,1...|\n",
            "| 61|  1|  0|   138| 166|  0|      0|     125|   1|    3.6|  1|  1|    2|     0|[61.0,3.6,166.0,1...|\n",
            "| 42|  1|  0|   136| 315|  0|      1|     125|   1|    1.8|  1|  0|    1|     0|[42.0,1.8,315.0,1...|\n",
            "| 52|  1|  0|   128| 204|  1|      1|     156|   1|    1.0|  1|  0|    0|     0|[52.0,1.0,204.0,1...|\n",
            "| 59|  1|  2|   126| 218|  1|      1|     134|   0|    2.2|  1|  1|    1|     0|[59.0,2.2,218.0,1...|\n",
            "| 40|  1|  0|   152| 223|  0|      1|     181|   0|    0.0|  2|  0|    3|     0|[40.0,0.0,223.0,1...|\n",
            "| 61|  1|  0|   140| 207|  0|      0|     138|   1|    1.9|  2|  1|    3|     0|[61.0,1.9,207.0,1...|\n",
            "| 46|  1|  0|   140| 311|  0|      1|     120|   1|    1.8|  1|  2|    3|     0|[46.0,1.8,311.0,1...|\n",
            "| 59|  1|  3|   134| 204|  0|      1|     162|   0|    0.8|  2|  2|    2|     0|[59.0,0.8,204.0,1...|\n",
            "| 57|  1|  1|   154| 232|  0|      0|     164|   0|    0.0|  2|  1|    2|     0|[57.0,0.0,232.0,1...|\n",
            "| 57|  1|  0|   110| 335|  0|      1|     143|   1|    3.0|  1|  1|    3|     0|[57.0,3.0,335.0,1...|\n",
            "| 55|  0|  0|   128| 205|  0|      2|     130|   1|    2.0|  1|  1|    3|     0|[55.0,2.0,205.0,1...|\n",
            "| 61|  1|  0|   148| 203|  0|      1|     161|   0|    0.0|  2|  1|    3|     0|[61.0,0.0,203.0,1...|\n",
            "| 58|  1|  0|   114| 318|  0|      2|     140|   0|    4.4|  0|  3|    1|     0|[58.0,4.4,318.0,1...|\n",
            "| 58|  0|  0|   170| 225|  1|      0|     146|   1|    2.8|  1|  2|    1|     0|[58.0,2.8,225.0,1...|\n",
            "| 67|  1|  2|   152| 212|  0|      0|     150|   0|    0.8|  1|  0|    3|     0|[67.0,0.8,212.0,1...|\n",
            "| 44|  1|  0|   120| 169|  0|      1|     144|   1|    2.8|  0|  0|    1|     0|[44.0,2.8,169.0,1...|\n",
            "| 63|  1|  0|   140| 187|  0|      0|     144|   1|    4.0|  2|  2|    3|     0|[63.0,4.0,187.0,1...|\n",
            "| 63|  0|  0|   124| 197|  0|      1|     136|   1|    0.0|  1|  0|    2|     0|[63.0,0.0,197.0,1...|\n",
            "| 59|  1|  0|   164| 176|  1|      0|      90|   0|    1.0|  1|  2|    1|     0|[59.0,1.0,176.0,1...|\n",
            "| 57|  0|  0|   140| 241|  0|      1|     123|   1|    0.2|  1|  0|    3|     0|[57.0,0.2,241.0,1...|\n",
            "| 45|  1|  3|   110| 264|  0|      1|     132|   0|    1.2|  1|  0|    3|     0|[45.0,1.2,264.0,1...|\n",
            "+---+---+---+------+----+---+-------+--------+----+-------+---+---+-----+------+--------------------+\n",
            "only showing top 300 rows\n",
            "\n"
          ]
        }
      ]
    },
    {
      "cell_type": "code",
      "source": [
        "data = df.select(['feature_vector', 'output'])\n",
        "data.show(5)"
      ],
      "metadata": {
        "colab": {
          "base_uri": "https://localhost:8080/"
        },
        "id": "XURMnvPwAQ4w",
        "outputId": "fc35384c-27d0-469b-af78-126cce2c572a"
      },
      "execution_count": null,
      "outputs": [
        {
          "output_type": "stream",
          "name": "stdout",
          "text": [
            "+--------------------+------+\n",
            "|      feature_vector|output|\n",
            "+--------------------+------+\n",
            "|[63.0,2.3,233.0,1...|     1|\n",
            "|[37.0,3.5,250.0,1...|     1|\n",
            "|[41.0,1.4,204.0,1...|     1|\n",
            "|[56.0,0.8,236.0,1...|     1|\n",
            "|[57.0,0.6,354.0,1...|     1|\n",
            "+--------------------+------+\n",
            "only showing top 5 rows\n",
            "\n"
          ]
        }
      ]
    },
    {
      "cell_type": "code",
      "source": [
        "trainset, testset = data.randomSplit([0.75, 0.25])"
      ],
      "metadata": {
        "id": "Ic-GG2qDAXV4"
      },
      "execution_count": null,
      "outputs": []
    },
    {
      "cell_type": "code",
      "source": [
        "from pyspark.ml.classification import RandomForestClassifier, LogisticRegression"
      ],
      "metadata": {
        "id": "lu7_56SrAayo"
      },
      "execution_count": null,
      "outputs": []
    },
    {
      "cell_type": "code",
      "source": [
        "RFC = RandomForestClassifier(featuresCol='feature_vector', labelCol='output')\n",
        "LRC = LogisticRegression(featuresCol='feature_vector', labelCol='output')"
      ],
      "metadata": {
        "id": "75rsilcUAdz4"
      },
      "execution_count": null,
      "outputs": []
    },
    {
      "cell_type": "code",
      "source": [
        "RFC = RFC.fit(trainset)\n",
        "LRC = LRC.fit(trainset)"
      ],
      "metadata": {
        "id": "k1_tcdjmAu6R"
      },
      "execution_count": null,
      "outputs": []
    },
    {
      "cell_type": "code",
      "source": [
        "rf_pred = RFC.transform(testset)\n",
        "lr_pred = LRC.transform(testset)"
      ],
      "metadata": {
        "id": "JOnQJ0P_A2vH"
      },
      "execution_count": null,
      "outputs": []
    },
    {
      "cell_type": "code",
      "source": [
        "from pyspark.ml.evaluation import BinaryClassificationEvaluator\n",
        "eval = BinaryClassificationEvaluator(labelCol='output')"
      ],
      "metadata": {
        "id": "xctm39inBBuu"
      },
      "execution_count": null,
      "outputs": []
    },
    {
      "cell_type": "code",
      "source": [
        "rf_auc = eval.evaluate(rf_pred)\n",
        "lr_auc = eval.evaluate(lr_pred)"
      ],
      "metadata": {
        "id": "S4kvRubZBF8X"
      },
      "execution_count": null,
      "outputs": []
    },
    {
      "cell_type": "code",
      "source": [
        "rf_auc"
      ],
      "metadata": {
        "colab": {
          "base_uri": "https://localhost:8080/"
        },
        "id": "Gq5dmCf_BNLn",
        "outputId": "529ffb8d-6cb6-4cb2-d3eb-affa145df07c"
      },
      "execution_count": null,
      "outputs": [
        {
          "output_type": "execute_result",
          "data": {
            "text/plain": [
              "0.698016826923077"
            ]
          },
          "metadata": {},
          "execution_count": 86
        }
      ]
    },
    {
      "cell_type": "code",
      "source": [
        "lr_auc"
      ],
      "metadata": {
        "colab": {
          "base_uri": "https://localhost:8080/"
        },
        "id": "uXHo3qU7BSPP",
        "outputId": "3c6f3668-9959-4ae1-bf51-95eed6b75a9c"
      },
      "execution_count": null,
      "outputs": [
        {
          "output_type": "execute_result",
          "data": {
            "text/plain": [
              "0.6887019230769229"
            ]
          },
          "metadata": {},
          "execution_count": 88
        }
      ]
    },
    {
      "cell_type": "code",
      "source": [
        "import numpy as np\n",
        "import matplotlib.pyplot as plt\n",
        "\n",
        "positive_probabilities = rf_pred.select(\"probability\").rdd.map(lambda x: x.probability[1])\n",
        "\n",
        "\n",
        "thresholds = np.arange(0.1, 1.1, 0.1)\n",
        "accuracies = []\n",
        "\n",
        "for threshold in thresholds:\n",
        "\n",
        "    classified_predictions = positive_probabilities.map(lambda x: 1 if x >= threshold else 0)\n",
        "\n",
        "\n",
        "    true_positive = classified_predictions.zip(rf_pred.select(\"output\").rdd.map(lambda x: x.output)).filter(lambda x: x[0] == 1 and x[1] == 1).count()\n",
        "    true_negative = classified_predictions.zip(rf_pred.select(\"output\").rdd.map(lambda x: x.output)).filter(lambda x: x[0] == 0 and x[1] == 0).count()\n",
        "    total = classified_predictions.count()\n",
        "\n",
        "    accuracy = (true_positive + true_negative) / total\n",
        "    accuracies.append(accuracy)\n",
        "\n",
        "\n",
        "plt.plot(thresholds, accuracies, marker='o')\n",
        "plt.title('Accuracy of random forest at Different Thresholds')\n",
        "plt.xlabel('Threshold')\n",
        "plt.ylabel('Accuracy')\n",
        "plt.show()"
      ],
      "metadata": {
        "colab": {
          "base_uri": "https://localhost:8080/",
          "height": 472
        },
        "id": "2nGfCxT4Udh2",
        "outputId": "07bdb179-1677-4713-d833-f7e1d877b047"
      },
      "execution_count": null,
      "outputs": [
        {
          "output_type": "display_data",
          "data": {
            "text/plain": [
              "<Figure size 640x480 with 1 Axes>"
            ],
            "image/png": "[encoded data removed]"
          },
          "metadata": {}
        }
      ]
    },
    {
      "cell_type": "code",
      "source": [
        "roc = eval.evaluate(rf_pred, {eval.metricName: \"areaUnderROC\"})\n",
        "roc_df = RFC.summary.roc.toPandas()\n",
        "\n",
        "plt.figure(figsize=(8, 8))\n",
        "plt.plot(roc_df['FPR'], roc_df['TPR'], color='darkorange', lw=2, label=f'AUC = {roc:.2f}')\n",
        "plt.plot([0, 1], [0, 1], color='navy', lw=2, linestyle='--')\n",
        "plt.xlabel('False Positive Rate (FPR)')\n",
        "plt.ylabel('True Positive Rate (TPR)')\n",
        "plt.title('Receiver Operating Characteristic (ROC) Curve')\n",
        "plt.legend(loc=\"lower right\")\n",
        "plt.show()"
      ],
      "metadata": {
        "colab": {
          "base_uri": "https://localhost:8080/",
          "height": 718
        },
        "id": "Ifr2YqrDWA6D",
        "outputId": "202cb911-d5c2-44a4-a88d-cbbb23790791"
      },
      "execution_count": null,
      "outputs": [
        {
          "output_type": "display_data",
          "data": {
            "text/plain": [
              "<Figure size 800x800 with 1 Axes>"
            ],
            "image/png": "[encoded data removed]"
          },
          "metadata": {}
        }
      ]
    },
    {
      "cell_type": "code",
      "source": [
        "import numpy as np\n",
        "import matplotlib.pyplot as plt\n",
        "\n",
        "positive_probabilities = lr_pred.select(\"probability\").rdd.map(lambda x: x.probability[1])\n",
        "\n",
        "\n",
        "thresholds = np.arange(0.1, 1.1, 0.1)\n",
        "accuracies = []\n",
        "\n",
        "for threshold in thresholds:\n",
        "\n",
        "    classified_predictions = positive_probabilities.map(lambda x: 1 if x >= threshold else 0)\n",
        "\n",
        "\n",
        "    true_positive = classified_predictions.zip(lr_pred.select(\"output\").rdd.map(lambda x: x.output)).filter(lambda x: x[0] == 1 and x[1] == 1).count()\n",
        "    true_negative = classified_predictions.zip(lr_pred.select(\"output\").rdd.map(lambda x: x.output)).filter(lambda x: x[0] == 0 and x[1] == 0).count()\n",
        "    total = classified_predictions.count()\n",
        "\n",
        "    accuracy = (true_positive + true_negative) / total\n",
        "    accuracies.append(accuracy)\n",
        "\n",
        "\n",
        "plt.plot(thresholds, accuracies, marker='o')\n",
        "plt.title('Accuracy of logisticregression at Different Thresholds')\n",
        "plt.xlabel('Threshold')\n",
        "plt.ylabel('Accuracy')\n",
        "plt.show()"
      ],
      "metadata": {
        "colab": {
          "base_uri": "https://localhost:8080/",
          "height": 472
        },
        "id": "Mz_lVwniWc-M",
        "outputId": "032234cc-b81c-43fa-933e-d63e35810ca0"
      },
      "execution_count": null,
      "outputs": [
        {
          "output_type": "display_data",
          "data": {
            "text/plain": [
              "<Figure size 640x480 with 1 Axes>"
            ],
            "image/png": "[encoded data removed]"
          },
          "metadata": {}
        }
      ]
    },
    {
      "cell_type": "code",
      "source": [
        "roc = eval.evaluate(lr_pred, {eval.metricName: \"areaUnderROC\"})\n",
        "roc_df = LRC.summary.roc.toPandas()\n",
        "\n",
        "plt.figure(figsize=(8, 8))\n",
        "plt.plot(roc_df['FPR'], roc_df['TPR'], color='darkorange', lw=2, label=f'AUC = {roc:.2f}')\n",
        "plt.plot([0, 1], [0, 1], color='navy', lw=2, linestyle='--')\n",
        "plt.xlabel('False Positive Rate (FPR)')\n",
        "plt.ylabel('True Positive Rate (TPR)')\n",
        "plt.title('Receiver Operating Characteristic (ROC) Curve')\n",
        "plt.legend(loc=\"lower right\")\n",
        "plt.show()"
      ],
      "metadata": {
        "colab": {
          "base_uri": "https://localhost:8080/",
          "height": 718
        },
        "id": "DjLQ1V-EW4nl",
        "outputId": "cbebf318-ecf9-40b6-b982-842252e9dc08"
      },
      "execution_count": null,
      "outputs": [
        {
          "output_type": "display_data",
          "data": {
            "text/plain": [
              "<Figure size 800x800 with 1 Axes>"
            ],
            "image/png": "[encoded data removed]"
          },
          "metadata": {}
        }
      ]
    }
  ]
}